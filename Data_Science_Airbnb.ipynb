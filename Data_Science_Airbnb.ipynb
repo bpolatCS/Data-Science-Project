{
  "nbformat": 4,
  "nbformat_minor": 0,
  "metadata": {
    "colab": {
      "name": "CS210_group52_FINAL",
      "provenance": [],
      "collapsed_sections": [],
      "toc_visible": true,
      "include_colab_link": true
    },
    "kernelspec": {
      "name": "python3",
      "display_name": "Python 3"
    },
    "language_info": {
      "name": "python"
    }
  },
  "cells": [
    {
      "cell_type": "markdown",
      "metadata": {
        "id": "view-in-github",
        "colab_type": "text"
      },
      "source": [
        "<a href=\"https://colab.research.google.com/github/bpolatCS/bpolatCS/blob/main/Data_Science_Airbnb.ipynb\" target=\"_parent\"><img src=\"https://colab.research.google.com/assets/colab-badge.svg\" alt=\"Open In Colab\"/></a>"
      ]
    },
    {
      "cell_type": "markdown",
      "metadata": {
        "id": "5HHRpf-0ZQ0v"
      },
      "source": [
        "# [NEW YORK AIRBNB PRICES - GROUP 52]\n",
        "\n",
        "Group Members:\n",
        "\n",
        "Bengisu Özdemir\n",
        "\n",
        "Oğuzhan Kaya\n",
        "\n",
        "Sarp Bora Polat \n",
        "\n"
      ]
    },
    {
      "cell_type": "markdown",
      "metadata": {
        "id": "9HH4Y4x40UpI"
      },
      "source": [
        "## Introduction\n",
        "\n",
        "<font color=\"black\">\n",
        "The purpose of this project is to analyze the given NYC Airbnb data and establishing a connection between the main data set and our additional data sets. In terms of additional data sets, we are using NYC Subway data, NYC Bus Stop data, and NYC Point of Interests. By making these we are observing the connections between transportation opportunities and price points, whether a location's price increase/decrease depending on their distance to POI's. In order to do so, we visualized our data via bar graphs, word clouds, and tables.\n",
        "\n",
        "</font>"
      ]
    },
    {
      "cell_type": "markdown",
      "metadata": {
        "id": "1B5SmSdb2Li5"
      },
      "source": [
        "### Utilized Datasets\n",
        "\n",
        "We have used several datasets from Kaggle.\n",
        "\n",
        "The main data is \"New York City Airbnb Open Data\" and it's link: https://www.kaggle.com/dgomonov/new-york-city-airbnb-open-data\n",
        "\n",
        "There are 3 more datasets we used throught the project as a side data for the main data.\n",
        "\n",
        "Here additional 3 data set's links:\n",
        "\n",
        "\"A List of Important POIs\"\n",
        "https://data.cityofnewyork.us/Health/Places/mzbd-kucq\n",
        "\n",
        "\"Bus Stop Locations\"\n",
        "https://data.cityofnewyork.us/Transportation/Bus-Stop-Shelters/qafz-7myz\n",
        "\n",
        "\"Subway Locations\"\n",
        "https://data.cityofnewyork.us/Transportation/Subway-Stations/arq3-7z49"
      ]
    },
    {
      "cell_type": "code",
      "metadata": {
        "id": "pEeWP74oZOIZ",
        "colab": {
          "base_uri": "https://localhost:8080/"
        },
        "outputId": "f0b5710d-d6ae-4e59-cfd9-fa5ba5fd6587"
      },
      "source": [
        "from google.colab import drive\n",
        "drive.mount(\"./drive\")\n",
        "path_prefix = \"./drive/My Drive\""
      ],
      "execution_count": null,
      "outputs": [
        {
          "output_type": "stream",
          "text": [
            "Drive already mounted at ./drive; to attempt to forcibly remount, call drive.mount(\"./drive\", force_remount=True).\n"
          ],
          "name": "stdout"
        }
      ]
    },
    {
      "cell_type": "code",
      "metadata": {
        "id": "De8Iwc5cdT9d"
      },
      "source": [
        "import pandas as pd\n",
        "import numpy as np\n",
        "from wordcloud import WordCloud, STOPWORDS\n",
        "import matplotlib.pyplot as plt\n",
        "from os.path import join\n",
        "from scipy.stats import f_oneway\n",
        "import seaborn as sns\n",
        "from scipy import stats\n",
        "%matplotlib inline"
      ],
      "execution_count": null,
      "outputs": []
    },
    {
      "cell_type": "code",
      "metadata": {
        "id": "NzUUEvEZdTzh"
      },
      "source": [
        "filename_first_data = \"AB_NYC_2019.csv\"\n",
        "df = pd.read_csv(join(path_prefix, filename_first_data))"
      ],
      "execution_count": null,
      "outputs": []
    },
    {
      "cell_type": "code",
      "metadata": {
        "id": "0kbuSBqF4Z6_",
        "colab": {
          "base_uri": "https://localhost:8080/",
          "height": 401
        },
        "outputId": "11f0d8f0-f432-489f-bba6-81ed0963e68e"
      },
      "source": [
        "df.head()\n",
        "#main"
      ],
      "execution_count": null,
      "outputs": [
        {
          "output_type": "execute_result",
          "data": {
            "text/html": [
              "<div>\n",
              "<style scoped>\n",
              "    .dataframe tbody tr th:only-of-type {\n",
              "        vertical-align: middle;\n",
              "    }\n",
              "\n",
              "    .dataframe tbody tr th {\n",
              "        vertical-align: top;\n",
              "    }\n",
              "\n",
              "    .dataframe thead th {\n",
              "        text-align: right;\n",
              "    }\n",
              "</style>\n",
              "<table border=\"1\" class=\"dataframe\">\n",
              "  <thead>\n",
              "    <tr style=\"text-align: right;\">\n",
              "      <th></th>\n",
              "      <th>id</th>\n",
              "      <th>name</th>\n",
              "      <th>host_id</th>\n",
              "      <th>host_name</th>\n",
              "      <th>neighbourhood_group</th>\n",
              "      <th>neighbourhood</th>\n",
              "      <th>latitude</th>\n",
              "      <th>longitude</th>\n",
              "      <th>room_type</th>\n",
              "      <th>price</th>\n",
              "      <th>minimum_nights</th>\n",
              "      <th>number_of_reviews</th>\n",
              "      <th>last_review</th>\n",
              "      <th>reviews_per_month</th>\n",
              "      <th>calculated_host_listings_count</th>\n",
              "      <th>availability_365</th>\n",
              "    </tr>\n",
              "  </thead>\n",
              "  <tbody>\n",
              "    <tr>\n",
              "      <th>0</th>\n",
              "      <td>2539</td>\n",
              "      <td>Clean &amp; quiet apt home by the park</td>\n",
              "      <td>2787</td>\n",
              "      <td>John</td>\n",
              "      <td>Brooklyn</td>\n",
              "      <td>Kensington</td>\n",
              "      <td>40.64749</td>\n",
              "      <td>-73.97237</td>\n",
              "      <td>Private room</td>\n",
              "      <td>149</td>\n",
              "      <td>1</td>\n",
              "      <td>9</td>\n",
              "      <td>2018-10-19</td>\n",
              "      <td>0.21</td>\n",
              "      <td>6</td>\n",
              "      <td>365</td>\n",
              "    </tr>\n",
              "    <tr>\n",
              "      <th>1</th>\n",
              "      <td>2595</td>\n",
              "      <td>Skylit Midtown Castle</td>\n",
              "      <td>2845</td>\n",
              "      <td>Jennifer</td>\n",
              "      <td>Manhattan</td>\n",
              "      <td>Midtown</td>\n",
              "      <td>40.75362</td>\n",
              "      <td>-73.98377</td>\n",
              "      <td>Entire home/apt</td>\n",
              "      <td>225</td>\n",
              "      <td>1</td>\n",
              "      <td>45</td>\n",
              "      <td>2019-05-21</td>\n",
              "      <td>0.38</td>\n",
              "      <td>2</td>\n",
              "      <td>355</td>\n",
              "    </tr>\n",
              "    <tr>\n",
              "      <th>2</th>\n",
              "      <td>3647</td>\n",
              "      <td>THE VILLAGE OF HARLEM....NEW YORK !</td>\n",
              "      <td>4632</td>\n",
              "      <td>Elisabeth</td>\n",
              "      <td>Manhattan</td>\n",
              "      <td>Harlem</td>\n",
              "      <td>40.80902</td>\n",
              "      <td>-73.94190</td>\n",
              "      <td>Private room</td>\n",
              "      <td>150</td>\n",
              "      <td>3</td>\n",
              "      <td>0</td>\n",
              "      <td>NaN</td>\n",
              "      <td>NaN</td>\n",
              "      <td>1</td>\n",
              "      <td>365</td>\n",
              "    </tr>\n",
              "    <tr>\n",
              "      <th>3</th>\n",
              "      <td>3831</td>\n",
              "      <td>Cozy Entire Floor of Brownstone</td>\n",
              "      <td>4869</td>\n",
              "      <td>LisaRoxanne</td>\n",
              "      <td>Brooklyn</td>\n",
              "      <td>Clinton Hill</td>\n",
              "      <td>40.68514</td>\n",
              "      <td>-73.95976</td>\n",
              "      <td>Entire home/apt</td>\n",
              "      <td>89</td>\n",
              "      <td>1</td>\n",
              "      <td>270</td>\n",
              "      <td>2019-07-05</td>\n",
              "      <td>4.64</td>\n",
              "      <td>1</td>\n",
              "      <td>194</td>\n",
              "    </tr>\n",
              "    <tr>\n",
              "      <th>4</th>\n",
              "      <td>5022</td>\n",
              "      <td>Entire Apt: Spacious Studio/Loft by central park</td>\n",
              "      <td>7192</td>\n",
              "      <td>Laura</td>\n",
              "      <td>Manhattan</td>\n",
              "      <td>East Harlem</td>\n",
              "      <td>40.79851</td>\n",
              "      <td>-73.94399</td>\n",
              "      <td>Entire home/apt</td>\n",
              "      <td>80</td>\n",
              "      <td>10</td>\n",
              "      <td>9</td>\n",
              "      <td>2018-11-19</td>\n",
              "      <td>0.10</td>\n",
              "      <td>1</td>\n",
              "      <td>0</td>\n",
              "    </tr>\n",
              "  </tbody>\n",
              "</table>\n",
              "</div>"
            ],
            "text/plain": [
              "     id  ... availability_365\n",
              "0  2539  ...              365\n",
              "1  2595  ...              355\n",
              "2  3647  ...              365\n",
              "3  3831  ...              194\n",
              "4  5022  ...                0\n",
              "\n",
              "[5 rows x 16 columns]"
            ]
          },
          "metadata": {
            "tags": []
          },
          "execution_count": 221
        }
      ]
    },
    {
      "cell_type": "code",
      "metadata": {
        "id": "rhUN-QEe6kSu",
        "colab": {
          "base_uri": "https://localhost:8080/"
        },
        "outputId": "ecc0eb54-b7d7-407a-d360-c56b17355c53"
      },
      "source": [
        "df.dtypes"
      ],
      "execution_count": null,
      "outputs": [
        {
          "output_type": "execute_result",
          "data": {
            "text/plain": [
              "id                                  int64\n",
              "name                               object\n",
              "host_id                             int64\n",
              "host_name                          object\n",
              "neighbourhood_group                object\n",
              "neighbourhood                      object\n",
              "latitude                          float64\n",
              "longitude                         float64\n",
              "room_type                          object\n",
              "price                               int64\n",
              "minimum_nights                      int64\n",
              "number_of_reviews                   int64\n",
              "last_review                        object\n",
              "reviews_per_month                 float64\n",
              "calculated_host_listings_count      int64\n",
              "availability_365                    int64\n",
              "dtype: object"
            ]
          },
          "metadata": {
            "tags": []
          },
          "execution_count": 222
        }
      ]
    },
    {
      "cell_type": "code",
      "metadata": {
        "id": "spjiRV_X4ede",
        "colab": {
          "base_uri": "https://localhost:8080/"
        },
        "outputId": "e14829b0-40e1-4ed7-c81f-f5223a32892c"
      },
      "source": [
        "df.isna().sum()"
      ],
      "execution_count": null,
      "outputs": [
        {
          "output_type": "execute_result",
          "data": {
            "text/plain": [
              "id                                    0\n",
              "name                                 16\n",
              "host_id                               0\n",
              "host_name                            21\n",
              "neighbourhood_group                   0\n",
              "neighbourhood                         0\n",
              "latitude                              0\n",
              "longitude                             0\n",
              "room_type                             0\n",
              "price                                 0\n",
              "minimum_nights                        0\n",
              "number_of_reviews                     0\n",
              "last_review                       10052\n",
              "reviews_per_month                 10052\n",
              "calculated_host_listings_count        0\n",
              "availability_365                      0\n",
              "dtype: int64"
            ]
          },
          "metadata": {
            "tags": []
          },
          "execution_count": 223
        }
      ]
    },
    {
      "cell_type": "code",
      "metadata": {
        "id": "V843Ts8m4rT5",
        "colab": {
          "base_uri": "https://localhost:8080/",
          "height": 287
        },
        "outputId": "91d242ad-4812-4609-9406-a448a29aafa3"
      },
      "source": [
        "df.describe()"
      ],
      "execution_count": null,
      "outputs": [
        {
          "output_type": "execute_result",
          "data": {
            "text/html": [
              "<div>\n",
              "<style scoped>\n",
              "    .dataframe tbody tr th:only-of-type {\n",
              "        vertical-align: middle;\n",
              "    }\n",
              "\n",
              "    .dataframe tbody tr th {\n",
              "        vertical-align: top;\n",
              "    }\n",
              "\n",
              "    .dataframe thead th {\n",
              "        text-align: right;\n",
              "    }\n",
              "</style>\n",
              "<table border=\"1\" class=\"dataframe\">\n",
              "  <thead>\n",
              "    <tr style=\"text-align: right;\">\n",
              "      <th></th>\n",
              "      <th>id</th>\n",
              "      <th>host_id</th>\n",
              "      <th>latitude</th>\n",
              "      <th>longitude</th>\n",
              "      <th>price</th>\n",
              "      <th>minimum_nights</th>\n",
              "      <th>number_of_reviews</th>\n",
              "      <th>reviews_per_month</th>\n",
              "      <th>calculated_host_listings_count</th>\n",
              "      <th>availability_365</th>\n",
              "    </tr>\n",
              "  </thead>\n",
              "  <tbody>\n",
              "    <tr>\n",
              "      <th>count</th>\n",
              "      <td>4.889500e+04</td>\n",
              "      <td>4.889500e+04</td>\n",
              "      <td>48895.000000</td>\n",
              "      <td>48895.000000</td>\n",
              "      <td>48895.000000</td>\n",
              "      <td>48895.000000</td>\n",
              "      <td>48895.000000</td>\n",
              "      <td>38843.000000</td>\n",
              "      <td>48895.000000</td>\n",
              "      <td>48895.000000</td>\n",
              "    </tr>\n",
              "    <tr>\n",
              "      <th>mean</th>\n",
              "      <td>1.901714e+07</td>\n",
              "      <td>6.762001e+07</td>\n",
              "      <td>40.728949</td>\n",
              "      <td>-73.952170</td>\n",
              "      <td>152.720687</td>\n",
              "      <td>7.029962</td>\n",
              "      <td>23.274466</td>\n",
              "      <td>1.373221</td>\n",
              "      <td>7.143982</td>\n",
              "      <td>112.781327</td>\n",
              "    </tr>\n",
              "    <tr>\n",
              "      <th>std</th>\n",
              "      <td>1.098311e+07</td>\n",
              "      <td>7.861097e+07</td>\n",
              "      <td>0.054530</td>\n",
              "      <td>0.046157</td>\n",
              "      <td>240.154170</td>\n",
              "      <td>20.510550</td>\n",
              "      <td>44.550582</td>\n",
              "      <td>1.680442</td>\n",
              "      <td>32.952519</td>\n",
              "      <td>131.622289</td>\n",
              "    </tr>\n",
              "    <tr>\n",
              "      <th>min</th>\n",
              "      <td>2.539000e+03</td>\n",
              "      <td>2.438000e+03</td>\n",
              "      <td>40.499790</td>\n",
              "      <td>-74.244420</td>\n",
              "      <td>0.000000</td>\n",
              "      <td>1.000000</td>\n",
              "      <td>0.000000</td>\n",
              "      <td>0.010000</td>\n",
              "      <td>1.000000</td>\n",
              "      <td>0.000000</td>\n",
              "    </tr>\n",
              "    <tr>\n",
              "      <th>25%</th>\n",
              "      <td>9.471945e+06</td>\n",
              "      <td>7.822033e+06</td>\n",
              "      <td>40.690100</td>\n",
              "      <td>-73.983070</td>\n",
              "      <td>69.000000</td>\n",
              "      <td>1.000000</td>\n",
              "      <td>1.000000</td>\n",
              "      <td>0.190000</td>\n",
              "      <td>1.000000</td>\n",
              "      <td>0.000000</td>\n",
              "    </tr>\n",
              "    <tr>\n",
              "      <th>50%</th>\n",
              "      <td>1.967728e+07</td>\n",
              "      <td>3.079382e+07</td>\n",
              "      <td>40.723070</td>\n",
              "      <td>-73.955680</td>\n",
              "      <td>106.000000</td>\n",
              "      <td>3.000000</td>\n",
              "      <td>5.000000</td>\n",
              "      <td>0.720000</td>\n",
              "      <td>1.000000</td>\n",
              "      <td>45.000000</td>\n",
              "    </tr>\n",
              "    <tr>\n",
              "      <th>75%</th>\n",
              "      <td>2.915218e+07</td>\n",
              "      <td>1.074344e+08</td>\n",
              "      <td>40.763115</td>\n",
              "      <td>-73.936275</td>\n",
              "      <td>175.000000</td>\n",
              "      <td>5.000000</td>\n",
              "      <td>24.000000</td>\n",
              "      <td>2.020000</td>\n",
              "      <td>2.000000</td>\n",
              "      <td>227.000000</td>\n",
              "    </tr>\n",
              "    <tr>\n",
              "      <th>max</th>\n",
              "      <td>3.648724e+07</td>\n",
              "      <td>2.743213e+08</td>\n",
              "      <td>40.913060</td>\n",
              "      <td>-73.712990</td>\n",
              "      <td>10000.000000</td>\n",
              "      <td>1250.000000</td>\n",
              "      <td>629.000000</td>\n",
              "      <td>58.500000</td>\n",
              "      <td>327.000000</td>\n",
              "      <td>365.000000</td>\n",
              "    </tr>\n",
              "  </tbody>\n",
              "</table>\n",
              "</div>"
            ],
            "text/plain": [
              "                 id  ...  availability_365\n",
              "count  4.889500e+04  ...      48895.000000\n",
              "mean   1.901714e+07  ...        112.781327\n",
              "std    1.098311e+07  ...        131.622289\n",
              "min    2.539000e+03  ...          0.000000\n",
              "25%    9.471945e+06  ...          0.000000\n",
              "50%    1.967728e+07  ...         45.000000\n",
              "75%    2.915218e+07  ...        227.000000\n",
              "max    3.648724e+07  ...        365.000000\n",
              "\n",
              "[8 rows x 10 columns]"
            ]
          },
          "metadata": {
            "tags": []
          },
          "execution_count": 224
        }
      ]
    },
    {
      "cell_type": "code",
      "metadata": {
        "id": "cZaBy4ZWBhJC"
      },
      "source": [
        "filename_second_data = \"Areas_of_Interest_Centroids (1).csv\"\n",
        "dataframe2 = pd.read_csv(join(path_prefix, filename_second_data))"
      ],
      "execution_count": null,
      "outputs": []
    },
    {
      "cell_type": "code",
      "metadata": {
        "id": "zHUI9JP16XVn",
        "colab": {
          "base_uri": "https://localhost:8080/",
          "height": 197
        },
        "outputId": "c6094c34-4486-4911-b694-0d5a91b144df"
      },
      "source": [
        "dataframe2.head()\n",
        "#POI"
      ],
      "execution_count": null,
      "outputs": [
        {
          "output_type": "execute_result",
          "data": {
            "text/html": [
              "<div>\n",
              "<style scoped>\n",
              "    .dataframe tbody tr th:only-of-type {\n",
              "        vertical-align: middle;\n",
              "    }\n",
              "\n",
              "    .dataframe tbody tr th {\n",
              "        vertical-align: top;\n",
              "    }\n",
              "\n",
              "    .dataframe thead th {\n",
              "        text-align: right;\n",
              "    }\n",
              "</style>\n",
              "<table border=\"1\" class=\"dataframe\">\n",
              "  <thead>\n",
              "    <tr style=\"text-align: right;\">\n",
              "      <th></th>\n",
              "      <th>the_geom</th>\n",
              "      <th>OBJECTID</th>\n",
              "      <th>Id</th>\n",
              "      <th>Name</th>\n",
              "      <th>Stacked</th>\n",
              "      <th>AnnoLine1</th>\n",
              "      <th>AnnoLine3</th>\n",
              "      <th>Borough</th>\n",
              "      <th>AnnoLine4</th>\n",
              "      <th>AnnoLine2a</th>\n",
              "      <th>Angle</th>\n",
              "    </tr>\n",
              "  </thead>\n",
              "  <tbody>\n",
              "    <tr>\n",
              "      <th>0</th>\n",
              "      <td>POINT (-73.88895811640342 40.8962098695574)</td>\n",
              "      <td>1</td>\n",
              "      <td>90</td>\n",
              "      <td>Van Cortlandt Park</td>\n",
              "      <td>3</td>\n",
              "      <td>Van</td>\n",
              "      <td>Park</td>\n",
              "      <td>Bronx</td>\n",
              "      <td>NaN</td>\n",
              "      <td>Cortlandt</td>\n",
              "      <td>0</td>\n",
              "    </tr>\n",
              "    <tr>\n",
              "      <th>1</th>\n",
              "      <td>POINT (-73.87165102682086 40.88987947152594)</td>\n",
              "      <td>2</td>\n",
              "      <td>95</td>\n",
              "      <td>Woodlawn Cemetery</td>\n",
              "      <td>2</td>\n",
              "      <td>Woodlawn</td>\n",
              "      <td>NaN</td>\n",
              "      <td>Bronx</td>\n",
              "      <td>NaN</td>\n",
              "      <td>Cemetery</td>\n",
              "      <td>0</td>\n",
              "    </tr>\n",
              "    <tr>\n",
              "      <th>2</th>\n",
              "      <td>POINT (-73.8386418872537 40.88696522165708)</td>\n",
              "      <td>3</td>\n",
              "      <td>81</td>\n",
              "      <td>Seton Falls Park</td>\n",
              "      <td>3</td>\n",
              "      <td>Seton</td>\n",
              "      <td>Park</td>\n",
              "      <td>Bronx</td>\n",
              "      <td>NaN</td>\n",
              "      <td>Falls</td>\n",
              "      <td>0</td>\n",
              "    </tr>\n",
              "    <tr>\n",
              "      <th>3</th>\n",
              "      <td>POINT (-73.80980242290379 40.87798554992497)</td>\n",
              "      <td>4</td>\n",
              "      <td>69</td>\n",
              "      <td>Pelham Bay Park</td>\n",
              "      <td>3</td>\n",
              "      <td>Pelham</td>\n",
              "      <td>Park</td>\n",
              "      <td>Bronx</td>\n",
              "      <td>NaN</td>\n",
              "      <td>Bay</td>\n",
              "      <td>0</td>\n",
              "    </tr>\n",
              "    <tr>\n",
              "      <th>4</th>\n",
              "      <td>POINT (-73.87830775950145 40.864423947038276)</td>\n",
              "      <td>5</td>\n",
              "      <td>8</td>\n",
              "      <td>Botanical Garden</td>\n",
              "      <td>2</td>\n",
              "      <td>Botanical</td>\n",
              "      <td>NaN</td>\n",
              "      <td>Bronx</td>\n",
              "      <td>NaN</td>\n",
              "      <td>Garden</td>\n",
              "      <td>0</td>\n",
              "    </tr>\n",
              "  </tbody>\n",
              "</table>\n",
              "</div>"
            ],
            "text/plain": [
              "                                        the_geom  OBJECTID  ...  AnnoLine2a Angle\n",
              "0    POINT (-73.88895811640342 40.8962098695574)         1  ...   Cortlandt     0\n",
              "1   POINT (-73.87165102682086 40.88987947152594)         2  ...    Cemetery     0\n",
              "2    POINT (-73.8386418872537 40.88696522165708)         3  ...       Falls     0\n",
              "3   POINT (-73.80980242290379 40.87798554992497)         4  ...         Bay     0\n",
              "4  POINT (-73.87830775950145 40.864423947038276)         5  ...      Garden     0\n",
              "\n",
              "[5 rows x 11 columns]"
            ]
          },
          "metadata": {
            "tags": []
          },
          "execution_count": 226
        }
      ]
    },
    {
      "cell_type": "code",
      "metadata": {
        "id": "QLWOA3qV50PR",
        "colab": {
          "base_uri": "https://localhost:8080/"
        },
        "outputId": "5565f486-f347-4fa9-b00a-75523ff09303"
      },
      "source": [
        "dataframe2.isna().sum()\n"
      ],
      "execution_count": null,
      "outputs": [
        {
          "output_type": "execute_result",
          "data": {
            "text/plain": [
              "the_geom       0\n",
              "OBJECTID       0\n",
              "Id             0\n",
              "Name           0\n",
              "Stacked        0\n",
              "AnnoLine1      0\n",
              "AnnoLine3     64\n",
              "Borough        0\n",
              "AnnoLine4     94\n",
              "AnnoLine2a     4\n",
              "Angle          0\n",
              "dtype: int64"
            ]
          },
          "metadata": {
            "tags": []
          },
          "execution_count": 227
        }
      ]
    },
    {
      "cell_type": "code",
      "metadata": {
        "id": "VNZysXMjR4pS"
      },
      "source": [
        "filename_third_data = \"Bus_Stop_Shelter.csv\"\n",
        "dataframe3 = pd.read_csv(join(path_prefix, filename_third_data))"
      ],
      "execution_count": null,
      "outputs": []
    },
    {
      "cell_type": "code",
      "metadata": {
        "id": "bgal7TKOSFAV",
        "colab": {
          "base_uri": "https://localhost:8080/",
          "height": 281
        },
        "outputId": "6020a51b-922d-42a1-f85a-6e988a852b0e"
      },
      "source": [
        "dataframe3.head()\n",
        "#bus stop"
      ],
      "execution_count": null,
      "outputs": [
        {
          "output_type": "execute_result",
          "data": {
            "text/html": [
              "<div>\n",
              "<style scoped>\n",
              "    .dataframe tbody tr th:only-of-type {\n",
              "        vertical-align: middle;\n",
              "    }\n",
              "\n",
              "    .dataframe tbody tr th {\n",
              "        vertical-align: top;\n",
              "    }\n",
              "\n",
              "    .dataframe thead th {\n",
              "        text-align: right;\n",
              "    }\n",
              "</style>\n",
              "<table border=\"1\" class=\"dataframe\">\n",
              "  <thead>\n",
              "    <tr style=\"text-align: right;\">\n",
              "      <th></th>\n",
              "      <th>CounDist</th>\n",
              "      <th>BoroCD</th>\n",
              "      <th>AssemDist</th>\n",
              "      <th>the_geom</th>\n",
              "      <th>CongDist</th>\n",
              "      <th>StSenDist</th>\n",
              "      <th>SHELTER_ID</th>\n",
              "      <th>LOCATION</th>\n",
              "      <th>AT_BETWEEN</th>\n",
              "      <th>LONGITUDE</th>\n",
              "      <th>LATITUDE</th>\n",
              "      <th>AssetID</th>\n",
              "      <th>BoroCode</th>\n",
              "      <th>BoroName</th>\n",
              "      <th>Street</th>\n",
              "      <th>SegmentID</th>\n",
              "      <th>PhysicalID</th>\n",
              "      <th>NODEID</th>\n",
              "    </tr>\n",
              "  </thead>\n",
              "  <tbody>\n",
              "    <tr>\n",
              "      <th>0</th>\n",
              "      <td>34</td>\n",
              "      <td>301</td>\n",
              "      <td>53</td>\n",
              "      <td>POINT (-73.94783099999995 40.70681200000007)</td>\n",
              "      <td>7</td>\n",
              "      <td>18</td>\n",
              "      <td>BR0003</td>\n",
              "      <td>MONTROSE AV</td>\n",
              "      <td>LORIMER ST</td>\n",
              "      <td>-73.947831</td>\n",
              "      <td>40.706812</td>\n",
              "      <td>1</td>\n",
              "      <td>3</td>\n",
              "      <td>Brooklyn</td>\n",
              "      <td>MONTROSE AVENUE</td>\n",
              "      <td>31244.0</td>\n",
              "      <td>91546</td>\n",
              "      <td>0</td>\n",
              "    </tr>\n",
              "    <tr>\n",
              "      <th>1</th>\n",
              "      <td>34</td>\n",
              "      <td>301</td>\n",
              "      <td>50</td>\n",
              "      <td>POINT (-73.94516199999998 40.71909700000003)</td>\n",
              "      <td>12</td>\n",
              "      <td>18</td>\n",
              "      <td>BR0014</td>\n",
              "      <td>GRAHAM AV</td>\n",
              "      <td>HERBERT ST</td>\n",
              "      <td>-73.945162</td>\n",
              "      <td>40.719097</td>\n",
              "      <td>2</td>\n",
              "      <td>3</td>\n",
              "      <td>Brooklyn</td>\n",
              "      <td>GRAHAM AVENUE</td>\n",
              "      <td>35598.0</td>\n",
              "      <td>45754</td>\n",
              "      <td>0</td>\n",
              "    </tr>\n",
              "    <tr>\n",
              "      <th>2</th>\n",
              "      <td>34</td>\n",
              "      <td>301</td>\n",
              "      <td>53</td>\n",
              "      <td>POINT (-73.94578299999995 40.702976000000035)</td>\n",
              "      <td>7</td>\n",
              "      <td>18</td>\n",
              "      <td>BR0026</td>\n",
              "      <td>BROADWAY</td>\n",
              "      <td>LEONARD ST</td>\n",
              "      <td>-73.945783</td>\n",
              "      <td>40.702976</td>\n",
              "      <td>3</td>\n",
              "      <td>3</td>\n",
              "      <td>Brooklyn</td>\n",
              "      <td>BROADWAY</td>\n",
              "      <td>31350.0</td>\n",
              "      <td>43972</td>\n",
              "      <td>19920</td>\n",
              "    </tr>\n",
              "    <tr>\n",
              "      <th>3</th>\n",
              "      <td>34</td>\n",
              "      <td>301</td>\n",
              "      <td>50</td>\n",
              "      <td>POINT (-73.94083599999993 40.72019500000005)</td>\n",
              "      <td>12</td>\n",
              "      <td>18</td>\n",
              "      <td>BR0028</td>\n",
              "      <td>KINGSLAND AV</td>\n",
              "      <td>HERBERT ST</td>\n",
              "      <td>-73.940836</td>\n",
              "      <td>40.720195</td>\n",
              "      <td>4</td>\n",
              "      <td>3</td>\n",
              "      <td>Brooklyn</td>\n",
              "      <td>KINGSLAND AVENUE</td>\n",
              "      <td>65844.0</td>\n",
              "      <td>48893</td>\n",
              "      <td>40551</td>\n",
              "    </tr>\n",
              "    <tr>\n",
              "      <th>4</th>\n",
              "      <td>35</td>\n",
              "      <td>302</td>\n",
              "      <td>50</td>\n",
              "      <td>POINT (-73.96979499999998 40.69344000000007)</td>\n",
              "      <td>8</td>\n",
              "      <td>25</td>\n",
              "      <td>BR0040</td>\n",
              "      <td>VANDERBILT AV</td>\n",
              "      <td>MYRTLE AV</td>\n",
              "      <td>-73.969795</td>\n",
              "      <td>40.693440</td>\n",
              "      <td>5</td>\n",
              "      <td>3</td>\n",
              "      <td>Brooklyn</td>\n",
              "      <td>VANDERBILT AVENUE</td>\n",
              "      <td>30196.0</td>\n",
              "      <td>60512</td>\n",
              "      <td>0</td>\n",
              "    </tr>\n",
              "  </tbody>\n",
              "</table>\n",
              "</div>"
            ],
            "text/plain": [
              "   CounDist  BoroCD  AssemDist  ... SegmentID  PhysicalID  NODEID\n",
              "0        34     301         53  ...   31244.0       91546       0\n",
              "1        34     301         50  ...   35598.0       45754       0\n",
              "2        34     301         53  ...   31350.0       43972   19920\n",
              "3        34     301         50  ...   65844.0       48893   40551\n",
              "4        35     302         50  ...   30196.0       60512       0\n",
              "\n",
              "[5 rows x 18 columns]"
            ]
          },
          "metadata": {
            "tags": []
          },
          "execution_count": 229
        }
      ]
    },
    {
      "cell_type": "code",
      "metadata": {
        "id": "Vl3tlYXk6xV2",
        "colab": {
          "base_uri": "https://localhost:8080/",
          "height": 287
        },
        "outputId": "515ffd45-b45c-40c1-cf7f-cdb977f44e51"
      },
      "source": [
        "dataframe3.describe()\n"
      ],
      "execution_count": null,
      "outputs": [
        {
          "output_type": "execute_result",
          "data": {
            "text/html": [
              "<div>\n",
              "<style scoped>\n",
              "    .dataframe tbody tr th:only-of-type {\n",
              "        vertical-align: middle;\n",
              "    }\n",
              "\n",
              "    .dataframe tbody tr th {\n",
              "        vertical-align: top;\n",
              "    }\n",
              "\n",
              "    .dataframe thead th {\n",
              "        text-align: right;\n",
              "    }\n",
              "</style>\n",
              "<table border=\"1\" class=\"dataframe\">\n",
              "  <thead>\n",
              "    <tr style=\"text-align: right;\">\n",
              "      <th></th>\n",
              "      <th>CounDist</th>\n",
              "      <th>BoroCD</th>\n",
              "      <th>AssemDist</th>\n",
              "      <th>CongDist</th>\n",
              "      <th>StSenDist</th>\n",
              "      <th>LONGITUDE</th>\n",
              "      <th>LATITUDE</th>\n",
              "      <th>AssetID</th>\n",
              "      <th>BoroCode</th>\n",
              "      <th>SegmentID</th>\n",
              "      <th>PhysicalID</th>\n",
              "      <th>NODEID</th>\n",
              "    </tr>\n",
              "  </thead>\n",
              "  <tbody>\n",
              "    <tr>\n",
              "      <th>count</th>\n",
              "      <td>3428.000000</td>\n",
              "      <td>3428.000000</td>\n",
              "      <td>3428.000000</td>\n",
              "      <td>3428.000000</td>\n",
              "      <td>3428.000000</td>\n",
              "      <td>3428.000000</td>\n",
              "      <td>3428.000000</td>\n",
              "      <td>3428.000000</td>\n",
              "      <td>3428.000000</td>\n",
              "      <td>3.424000e+03</td>\n",
              "      <td>3428.000000</td>\n",
              "      <td>3.428000e+03</td>\n",
              "    </tr>\n",
              "    <tr>\n",
              "      <th>mean</th>\n",
              "      <td>24.651400</td>\n",
              "      <td>288.904026</td>\n",
              "      <td>55.430863</td>\n",
              "      <td>10.156651</td>\n",
              "      <td>22.673571</td>\n",
              "      <td>-73.919379</td>\n",
              "      <td>40.730147</td>\n",
              "      <td>1714.500000</td>\n",
              "      <td>2.806593</td>\n",
              "      <td>8.146843e+05</td>\n",
              "      <td>43019.437281</td>\n",
              "      <td>6.408690e+05</td>\n",
              "    </tr>\n",
              "    <tr>\n",
              "      <th>std</th>\n",
              "      <td>14.889481</td>\n",
              "      <td>124.796003</td>\n",
              "      <td>19.343640</td>\n",
              "      <td>3.361364</td>\n",
              "      <td>7.623886</td>\n",
              "      <td>0.086316</td>\n",
              "      <td>0.085123</td>\n",
              "      <td>989.722688</td>\n",
              "      <td>1.244864</td>\n",
              "      <td>2.408498e+06</td>\n",
              "      <td>40146.239776</td>\n",
              "      <td>2.293383e+06</td>\n",
              "    </tr>\n",
              "    <tr>\n",
              "      <th>min</th>\n",
              "      <td>1.000000</td>\n",
              "      <td>101.000000</td>\n",
              "      <td>23.000000</td>\n",
              "      <td>3.000000</td>\n",
              "      <td>10.000000</td>\n",
              "      <td>-74.239183</td>\n",
              "      <td>40.506049</td>\n",
              "      <td>1.000000</td>\n",
              "      <td>1.000000</td>\n",
              "      <td>1.148000e+03</td>\n",
              "      <td>0.000000</td>\n",
              "      <td>0.000000e+00</td>\n",
              "    </tr>\n",
              "    <tr>\n",
              "      <th>25%</th>\n",
              "      <td>11.000000</td>\n",
              "      <td>204.000000</td>\n",
              "      <td>37.000000</td>\n",
              "      <td>7.000000</td>\n",
              "      <td>16.000000</td>\n",
              "      <td>-73.968959</td>\n",
              "      <td>40.671005</td>\n",
              "      <td>857.750000</td>\n",
              "      <td>2.000000</td>\n",
              "      <td>4.040025e+04</td>\n",
              "      <td>11638.750000</td>\n",
              "      <td>0.000000e+00</td>\n",
              "    </tr>\n",
              "    <tr>\n",
              "      <th>50%</th>\n",
              "      <td>24.000000</td>\n",
              "      <td>308.000000</td>\n",
              "      <td>57.000000</td>\n",
              "      <td>10.000000</td>\n",
              "      <td>23.000000</td>\n",
              "      <td>-73.926177</td>\n",
              "      <td>40.731774</td>\n",
              "      <td>1714.500000</td>\n",
              "      <td>3.000000</td>\n",
              "      <td>8.591350e+04</td>\n",
              "      <td>37278.500000</td>\n",
              "      <td>0.000000e+00</td>\n",
              "    </tr>\n",
              "    <tr>\n",
              "      <th>75%</th>\n",
              "      <td>37.000000</td>\n",
              "      <td>406.000000</td>\n",
              "      <td>72.000000</td>\n",
              "      <td>13.000000</td>\n",
              "      <td>29.000000</td>\n",
              "      <td>-73.861331</td>\n",
              "      <td>40.794554</td>\n",
              "      <td>2571.250000</td>\n",
              "      <td>4.000000</td>\n",
              "      <td>1.589792e+05</td>\n",
              "      <td>59249.000000</td>\n",
              "      <td>2.348575e+04</td>\n",
              "    </tr>\n",
              "    <tr>\n",
              "      <th>max</th>\n",
              "      <td>51.000000</td>\n",
              "      <td>595.000000</td>\n",
              "      <td>87.000000</td>\n",
              "      <td>16.000000</td>\n",
              "      <td>36.000000</td>\n",
              "      <td>-73.712455</td>\n",
              "      <td>40.912781</td>\n",
              "      <td>3428.000000</td>\n",
              "      <td>5.000000</td>\n",
              "      <td>9.017040e+06</td>\n",
              "      <td>178096.000000</td>\n",
              "      <td>9.049294e+06</td>\n",
              "    </tr>\n",
              "  </tbody>\n",
              "</table>\n",
              "</div>"
            ],
            "text/plain": [
              "          CounDist       BoroCD  ...     PhysicalID        NODEID\n",
              "count  3428.000000  3428.000000  ...    3428.000000  3.428000e+03\n",
              "mean     24.651400   288.904026  ...   43019.437281  6.408690e+05\n",
              "std      14.889481   124.796003  ...   40146.239776  2.293383e+06\n",
              "min       1.000000   101.000000  ...       0.000000  0.000000e+00\n",
              "25%      11.000000   204.000000  ...   11638.750000  0.000000e+00\n",
              "50%      24.000000   308.000000  ...   37278.500000  0.000000e+00\n",
              "75%      37.000000   406.000000  ...   59249.000000  2.348575e+04\n",
              "max      51.000000   595.000000  ...  178096.000000  9.049294e+06\n",
              "\n",
              "[8 rows x 12 columns]"
            ]
          },
          "metadata": {
            "tags": []
          },
          "execution_count": 230
        }
      ]
    },
    {
      "cell_type": "code",
      "metadata": {
        "id": "j6SNAWLlSUWn"
      },
      "source": [
        "filename_fourth_data = \"DOITT_SUBWAY_STATION_01_13SEPT2010.csv\"\n",
        "dataframe4 = pd.read_csv(join(path_prefix, filename_fourth_data))"
      ],
      "execution_count": null,
      "outputs": []
    },
    {
      "cell_type": "code",
      "metadata": {
        "id": "Dcc-M4b_SeXr",
        "colab": {
          "base_uri": "https://localhost:8080/",
          "height": 197
        },
        "outputId": "54fe4a1a-7419-4c48-e745-34d23df64593"
      },
      "source": [
        "dataframe4.head()\n",
        "#subway"
      ],
      "execution_count": null,
      "outputs": [
        {
          "output_type": "execute_result",
          "data": {
            "text/html": [
              "<div>\n",
              "<style scoped>\n",
              "    .dataframe tbody tr th:only-of-type {\n",
              "        vertical-align: middle;\n",
              "    }\n",
              "\n",
              "    .dataframe tbody tr th {\n",
              "        vertical-align: top;\n",
              "    }\n",
              "\n",
              "    .dataframe thead th {\n",
              "        text-align: right;\n",
              "    }\n",
              "</style>\n",
              "<table border=\"1\" class=\"dataframe\">\n",
              "  <thead>\n",
              "    <tr style=\"text-align: right;\">\n",
              "      <th></th>\n",
              "      <th>URL</th>\n",
              "      <th>OBJECTID</th>\n",
              "      <th>NAME</th>\n",
              "      <th>the_geom</th>\n",
              "      <th>LINE</th>\n",
              "      <th>NOTES</th>\n",
              "    </tr>\n",
              "  </thead>\n",
              "  <tbody>\n",
              "    <tr>\n",
              "      <th>0</th>\n",
              "      <td>http://web.mta.info/nyct/service/</td>\n",
              "      <td>1</td>\n",
              "      <td>Astor Pl</td>\n",
              "      <td>POINT (-73.99106999861966 40.73005400028978)</td>\n",
              "      <td>4-6-6 Express</td>\n",
              "      <td>4 nights, 6-all times, 6 Express-weekdays AM s...</td>\n",
              "    </tr>\n",
              "    <tr>\n",
              "      <th>1</th>\n",
              "      <td>http://web.mta.info/nyct/service/</td>\n",
              "      <td>2</td>\n",
              "      <td>Canal St</td>\n",
              "      <td>POINT (-74.00019299927328 40.71880300107709)</td>\n",
              "      <td>4-6-6 Express</td>\n",
              "      <td>4 nights, 6-all times, 6 Express-weekdays AM s...</td>\n",
              "    </tr>\n",
              "    <tr>\n",
              "      <th>2</th>\n",
              "      <td>http://web.mta.info/nyct/service/</td>\n",
              "      <td>3</td>\n",
              "      <td>50th St</td>\n",
              "      <td>POINT (-73.98384899986625 40.76172799961419)</td>\n",
              "      <td>1-2</td>\n",
              "      <td>1-all times, 2-nights</td>\n",
              "    </tr>\n",
              "    <tr>\n",
              "      <th>3</th>\n",
              "      <td>http://web.mta.info/nyct/service/</td>\n",
              "      <td>4</td>\n",
              "      <td>Bergen St</td>\n",
              "      <td>POINT (-73.97499915116808 40.68086213682956)</td>\n",
              "      <td>2-3-4</td>\n",
              "      <td>4-nights, 3-all other times, 2-all times</td>\n",
              "    </tr>\n",
              "    <tr>\n",
              "      <th>4</th>\n",
              "      <td>http://web.mta.info/nyct/service/</td>\n",
              "      <td>5</td>\n",
              "      <td>Pennsylvania Ave</td>\n",
              "      <td>POINT (-73.89488591154061 40.66471445143568)</td>\n",
              "      <td>3-4</td>\n",
              "      <td>4-nights, 3-all other times</td>\n",
              "    </tr>\n",
              "  </tbody>\n",
              "</table>\n",
              "</div>"
            ],
            "text/plain": [
              "                                 URL  ...                                              NOTES\n",
              "0  http://web.mta.info/nyct/service/  ...  4 nights, 6-all times, 6 Express-weekdays AM s...\n",
              "1  http://web.mta.info/nyct/service/  ...  4 nights, 6-all times, 6 Express-weekdays AM s...\n",
              "2  http://web.mta.info/nyct/service/  ...                              1-all times, 2-nights\n",
              "3  http://web.mta.info/nyct/service/  ...           4-nights, 3-all other times, 2-all times\n",
              "4  http://web.mta.info/nyct/service/  ...                        4-nights, 3-all other times\n",
              "\n",
              "[5 rows x 6 columns]"
            ]
          },
          "metadata": {
            "tags": []
          },
          "execution_count": 232
        }
      ]
    },
    {
      "cell_type": "code",
      "metadata": {
        "colab": {
          "base_uri": "https://localhost:8080/",
          "height": 197
        },
        "id": "-WN2yimgNGmP",
        "outputId": "6a5acf73-0519-476c-cdf0-961b778ed1ba"
      },
      "source": [
        "dataframe4.tail()"
      ],
      "execution_count": null,
      "outputs": [
        {
          "output_type": "execute_result",
          "data": {
            "text/html": [
              "<div>\n",
              "<style scoped>\n",
              "    .dataframe tbody tr th:only-of-type {\n",
              "        vertical-align: middle;\n",
              "    }\n",
              "\n",
              "    .dataframe tbody tr th {\n",
              "        vertical-align: top;\n",
              "    }\n",
              "\n",
              "    .dataframe thead th {\n",
              "        text-align: right;\n",
              "    }\n",
              "</style>\n",
              "<table border=\"1\" class=\"dataframe\">\n",
              "  <thead>\n",
              "    <tr style=\"text-align: right;\">\n",
              "      <th></th>\n",
              "      <th>URL</th>\n",
              "      <th>OBJECTID</th>\n",
              "      <th>NAME</th>\n",
              "      <th>the_geom</th>\n",
              "      <th>LINE</th>\n",
              "      <th>NOTES</th>\n",
              "    </tr>\n",
              "  </thead>\n",
              "  <tbody>\n",
              "    <tr>\n",
              "      <th>468</th>\n",
              "      <td>http://web.mta.info/nyct/service/</td>\n",
              "      <td>469</td>\n",
              "      <td>Coney Island - Stillwell Av</td>\n",
              "      <td>POINT (-73.9812359981396 40.57728100006751)</td>\n",
              "      <td>D-F-N-Q</td>\n",
              "      <td>D,F,N,Q-all times</td>\n",
              "    </tr>\n",
              "    <tr>\n",
              "      <th>469</th>\n",
              "      <td>http://web.mta.info/nyct/service/</td>\n",
              "      <td>470</td>\n",
              "      <td>34th St - Hudson Yards</td>\n",
              "      <td>POINT (-74.00219709442206 40.75544635961596)</td>\n",
              "      <td>7-7 Express</td>\n",
              "      <td>7-all times, 7 Express-rush hours AM westbound...</td>\n",
              "    </tr>\n",
              "    <tr>\n",
              "      <th>470</th>\n",
              "      <td>http://web.mta.info/nyct/service/</td>\n",
              "      <td>641</td>\n",
              "      <td>72nd St</td>\n",
              "      <td>POINT (-73.95836178682246 40.76880251014895)</td>\n",
              "      <td>Q</td>\n",
              "      <td>Q-all times</td>\n",
              "    </tr>\n",
              "    <tr>\n",
              "      <th>471</th>\n",
              "      <td>http://web.mta.info/nyct/service/</td>\n",
              "      <td>642</td>\n",
              "      <td>86th St</td>\n",
              "      <td>POINT (-73.95177090964917 40.77786104333163)</td>\n",
              "      <td>Q</td>\n",
              "      <td>Q-all times</td>\n",
              "    </tr>\n",
              "    <tr>\n",
              "      <th>472</th>\n",
              "      <td>http://web.mta.info/nyct/service/</td>\n",
              "      <td>643</td>\n",
              "      <td>96th St</td>\n",
              "      <td>POINT (-73.9470660219183 40.784236650177654)</td>\n",
              "      <td>Q</td>\n",
              "      <td>Q-all times</td>\n",
              "    </tr>\n",
              "  </tbody>\n",
              "</table>\n",
              "</div>"
            ],
            "text/plain": [
              "                                   URL  ...                                              NOTES\n",
              "468  http://web.mta.info/nyct/service/  ...                                  D,F,N,Q-all times\n",
              "469  http://web.mta.info/nyct/service/  ...  7-all times, 7 Express-rush hours AM westbound...\n",
              "470  http://web.mta.info/nyct/service/  ...                                        Q-all times\n",
              "471  http://web.mta.info/nyct/service/  ...                                        Q-all times\n",
              "472  http://web.mta.info/nyct/service/  ...                                        Q-all times\n",
              "\n",
              "[5 rows x 6 columns]"
            ]
          },
          "metadata": {
            "tags": []
          },
          "execution_count": 233
        }
      ]
    },
    {
      "cell_type": "code",
      "metadata": {
        "id": "RsbILwOw661W",
        "colab": {
          "base_uri": "https://localhost:8080/"
        },
        "outputId": "502c72d7-967e-45c9-c43d-d191c2576edb"
      },
      "source": [
        "dataframe4.isna().sum()"
      ],
      "execution_count": null,
      "outputs": [
        {
          "output_type": "execute_result",
          "data": {
            "text/plain": [
              "URL         0\n",
              "OBJECTID    0\n",
              "NAME        0\n",
              "the_geom    0\n",
              "LINE        0\n",
              "NOTES       0\n",
              "dtype: int64"
            ]
          },
          "metadata": {
            "tags": []
          },
          "execution_count": 234
        }
      ]
    },
    {
      "cell_type": "markdown",
      "metadata": {
        "id": "RH3yCHgF7Kb2"
      },
      "source": [
        "## Exploratory Data Analysis\n"
      ]
    },
    {
      "cell_type": "code",
      "metadata": {
        "id": "hiyp8RKSyLi_",
        "colab": {
          "base_uri": "https://localhost:8080/",
          "height": 351
        },
        "outputId": "470eba8a-c89c-4fb3-bec2-ebecb65313c1"
      },
      "source": [
        "##Here, using main data we extracted the price and neighbourhood group column. Then compared between.\n",
        "#NegNames = list(df[\"neighbourhood_group\"].unique())\n",
        "#PriceList = []\n",
        "#for i in NegNames:\n",
        "#  PriceList.append( df[df[\"neighbourhood_group\"] == i][\"price\"].mean())\n",
        "\n",
        "\n",
        "ax = df.groupby(by=\"neighbourhood_group\").mean()[\"price\"].plot(kind=\"bar\", color=\"red\")\n",
        "\n",
        "ax.set_xlabel('neighbourhood groups')\n",
        "ax.set_ylabel('average price')\n",
        "ax.set_title('Average prices of neighbourhood groups');\n",
        "\n"
      ],
      "execution_count": null,
      "outputs": [
        {
          "output_type": "display_data",
          "data": {
            "image/png": "[encoded data removed]",
            "text/plain": [
              "<Figure size 432x288 with 1 Axes>"
            ]
          },
          "metadata": {
            "tags": [],
            "needs_background": "light"
          }
        }
      ]
    },
    {
      "cell_type": "markdown",
      "metadata": {
        "id": "QYW23Iz2MG58"
      },
      "source": [
        "<font color = \"brown\">\n",
        "<font size = 4px>\n",
        "First of all we have started our exploaration with looking how average prices of lots vary by neighbourhood groups. As it is seen, most expensive neighbourhood group is Manhattan and the cheapest is Bronx.\n",
        "</font>"
      ]
    },
    {
      "cell_type": "code",
      "metadata": {
        "id": "ItNz5XHCBRxh",
        "colab": {
          "base_uri": "https://localhost:8080/",
          "height": 352
        },
        "outputId": "fe0f3ec6-8929-4e30-debf-b03fde1c68b2"
      },
      "source": [
        "ax=df.groupby(by=\"neighbourhood_group\")[\"room_type\"].count().plot(kind=\"bar\", color=\"orange\")\n",
        "\n",
        "ax.set_xlabel('neighbourhood_group')\n",
        "ax.set_ylabel('number of lots')\n",
        "ax.set_title('The number of lots');\n",
        "\n"
      ],
      "execution_count": null,
      "outputs": [
        {
          "output_type": "display_data",
          "data": {
            "image/png": "[encoded data removed]",
            "text/plain": [
              "<Figure size 432x288 with 1 Axes>"
            ]
          },
          "metadata": {
            "tags": [],
            "needs_background": "light"
          }
        }
      ]
    },
    {
      "cell_type": "markdown",
      "metadata": {
        "id": "CQIDu-LaMPCA"
      },
      "source": [
        "<font color = \"brown\">\n",
        "<font size = 4px>\n",
        "In this figure, it is seen that there are by far more lots than the Bronx in Manhattan. \n",
        "</font>"
      ]
    },
    {
      "cell_type": "code",
      "metadata": {
        "id": "yTUpQfijDUnB",
        "colab": {
          "base_uri": "https://localhost:8080/",
          "height": 385
        },
        "outputId": "1c44f173-095e-4545-fa7c-6bedc39eedcf"
      },
      "source": [
        "data = list(df.groupby('room_type')['price'].mean()) # Average price by room type\n",
        "plt.figure(figsize=(10,5))\n",
        "plt.bar(df[\"room_type\"].unique(), data)\n",
        "plt.title(\"Average prices ($) by Room Type\")\n",
        "plt.xlabel(\"Room Type\")\n",
        "plt.ylabel(\"Average prices ($)\")\n",
        "plt.show()\n",
        "\n",
        "#This is a list of average price by room type. \n",
        "print('Average price by room type:')\n",
        "showLotPrice = list(df.groupby('room_type')['price'].mean()) # Average price by room type\n",
        "print(showLotPrice)\n"
      ],
      "execution_count": null,
      "outputs": [
        {
          "output_type": "display_data",
          "data": {
            "image/png": "[encoded data removed]",
            "text/plain": [
              "<Figure size 720x360 with 1 Axes>"
            ]
          },
          "metadata": {
            "tags": [],
            "needs_background": "light"
          }
        },
        {
          "output_type": "stream",
          "text": [
            "Average price by room type:\n",
            "[211.79424613325986, 89.78097285675894, 70.12758620689655]\n"
          ],
          "name": "stdout"
        }
      ]
    },
    {
      "cell_type": "markdown",
      "metadata": {
        "id": "ago7yh_-MoVA"
      },
      "source": [
        "<font color = \"brown\">\n",
        "<font size = 4px>\n",
        "In this figure, it is seen that there private room is the most expensive type of lot among entire home and shared room.\n",
        "</font>"
      ]
    },
    {
      "cell_type": "code",
      "metadata": {
        "id": "TyFbWhqQyu8O",
        "colab": {
          "base_uri": "https://localhost:8080/",
          "height": 893
        },
        "outputId": "219c93a8-f7dc-4c1f-8626-04c6f5b98819"
      },
      "source": [
        "ManhattanNeigh = list(df[df[\"neighbourhood_group\"]== \"Manhattan\"][\"neighbourhood\"].unique())\n",
        "neigNames=[]\n",
        "neigPrc=[]\n",
        "for j in ManhattanNeigh:\n",
        "  neigNames.append(j)\n",
        "  neigPrc.append(df[(df[\"neighbourhood_group\"] == \"Manhattan\") & (df[\"neighbourhood\"] == j)][\"price\"].mean())\n",
        "\n",
        "plt.figure(figsize=(25,15))\n",
        "plt.barh(neigNames, neigPrc)\n",
        "plt.title(\"Neighbourhoods in Manhattan\")\n",
        "plt.xlabel(\"Average prices ($)\")\n",
        "plt.show()"
      ],
      "execution_count": null,
      "outputs": [
        {
          "output_type": "display_data",
          "data": {
            "image/png": "[encoded data removed]",
            "text/plain": [
              "<Figure size 1800x1080 with 1 Axes>"
            ]
          },
          "metadata": {
            "tags": [],
            "needs_background": "light"
          }
        }
      ]
    },
    {
      "cell_type": "markdown",
      "metadata": {
        "id": "lsUcfwQpNI4W"
      },
      "source": [
        "<font color = \"brown\">\n",
        "<font size = 4px>\n",
        "Here, we looked Manhattan's neighbourhoods individually by average price. To do so, we got some insight about average prices.\n",
        "</font>"
      ]
    },
    {
      "cell_type": "code",
      "metadata": {
        "id": "lObhHtZDzTfj",
        "colab": {
          "base_uri": "https://localhost:8080/",
          "height": 893
        },
        "outputId": "3b3c4849-a80a-4129-c182-a22c0f3e1cee"
      },
      "source": [
        "BronxNeigh = list(df[df[\"neighbourhood_group\"]== \"Bronx\"][\"neighbourhood\"].unique())\n",
        "neigNamesQ=[]\n",
        "neigPrcQ=[]\n",
        "for j in BronxNeigh:\n",
        "  neigNamesQ.append(j)\n",
        "  neigPrcQ.append(df[(df[\"neighbourhood_group\"] == \"Bronx\") & (df[\"neighbourhood\"] == j)][\"price\"].mean())\n",
        "plt.figure(figsize=(25,15))\n",
        "plt.barh(neigNamesQ, neigPrcQ)\n",
        "plt.title(\"Bronx Neighbourhoods\")\n",
        "plt.xlabel(\"Average prices\")\n",
        "plt.show()\n"
      ],
      "execution_count": null,
      "outputs": [
        {
          "output_type": "display_data",
          "data": {
            "image/png": "[encoded data removed]",
            "text/plain": [
              "<Figure size 1800x1080 with 1 Axes>"
            ]
          },
          "metadata": {
            "tags": [],
            "needs_background": "light"
          }
        }
      ]
    },
    {
      "cell_type": "markdown",
      "metadata": {
        "id": "zM1hxLsHNVY1"
      },
      "source": [
        "<font color = \"brown\">\n",
        "<font size = 4px>\n",
        "We have done same thing for Bronx. We looked at the neighbourhoods average price. According to Bronx neighbourhoods graph, amoung the neighbourhoods Riverdale by far the most expensive neighbourhood in Bronx. This one should be analyze deeply later.\n",
        "</font>"
      ]
    },
    {
      "cell_type": "code",
      "metadata": {
        "id": "5oag76CeY28q",
        "colab": {
          "base_uri": "https://localhost:8080/",
          "height": 281
        },
        "outputId": "c3be2133-3635-48fa-83b6-5c2c567eb1d3"
      },
      "source": [
        "numofPoiManhattan =0\n",
        "numofPoiBronx = 0\n",
        "for j in (dataframe2[\"Borough\"]):\n",
        "  if j == \"Manhattan\":\n",
        "    numofPoiManhattan+= 1\n",
        "  if j == \"Bronx\":\n",
        "    numofPoiBronx+= 1\n",
        "\n",
        "plt.bar( ['Manhattan','Bronx'], [numofPoiManhattan, numofPoiBronx])\n",
        "plt.title(\"Number of POI's Difference\")\n",
        "plt.ylabel(\"The amount of POI's \")\n",
        "plt.show()"
      ],
      "execution_count": null,
      "outputs": [
        {
          "output_type": "display_data",
          "data": {
            "image/png": "[encoded data removed]",
            "text/plain": [
              "<Figure size 432x288 with 1 Axes>"
            ]
          },
          "metadata": {
            "tags": [],
            "needs_background": "light"
          }
        }
      ]
    },
    {
      "cell_type": "markdown",
      "metadata": {
        "id": "zLpGrX7CNwg2"
      },
      "source": [
        "<font color = \"brown\">\n",
        "<font size = 4px>\n",
        "After understood the most expensive and cheapest neighbourhood groups as Manhattan and Bronx, now we looked at the amount of the POIs effect neighbourhoods prices using our external source which is \"Areas_of_Interest_Centroids.csv.'). \n",
        "</font>\n",
        "<br>\n",
        "<br>\n",
        "<font color = \"brown\">\n",
        "<font size = 4px>\n",
        "It is seen that, Manhattan has 13 POIs and Bronx has 15. Although Manhattan is more expensive than Bronx, it is clearly seen that the amount of POIs has no affect on price differences.\n",
        "</font>"
      ]
    },
    {
      "cell_type": "code",
      "metadata": {
        "id": "cytnyhO5JAiR",
        "colab": {
          "base_uri": "https://localhost:8080/",
          "height": 281
        },
        "outputId": "d34927c8-3ebc-4e97-f2f0-b222b37c5d3e"
      },
      "source": [
        "numofSubwayManhattan =0\n",
        "numofSubwayBronx = 0\n",
        "for j in (dataframe3[\"BoroName\"]):\n",
        "  if j == \"Manhattan\":\n",
        "    numofSubwayManhattan+= 1\n",
        "  if j == \"Bronx\":\n",
        "    numofSubwayBronx+= 1\n",
        "\n",
        "plt.bar( ['Manhattan','Bronx'], [numofSubwayManhattan, numofSubwayBronx])\n",
        "plt.title(\"Number of Bus Stop Differences\")\n",
        "plt.ylabel(\"The amount of Bus Stops \")\n",
        "plt.show()"
      ],
      "execution_count": null,
      "outputs": [
        {
          "output_type": "display_data",
          "data": {
            "image/png": "[encoded data removed]",
            "text/plain": [
              "<Figure size 432x288 with 1 Axes>"
            ]
          },
          "metadata": {
            "tags": [],
            "needs_background": "light"
          }
        }
      ]
    },
    {
      "cell_type": "markdown",
      "metadata": {
        "id": "MatjLympOc_h"
      },
      "source": [
        "<font color = \"brown\">\n",
        "<font size = 4px>\n",
        "This time, we analyse number of bus stops in individual neighbourhoods and its affect on lot prices\n",
        "</font>\n",
        "<br>\n",
        "<br>\n",
        "<font color = \"brown\">\n",
        "<font size = 4px>\n",
        "It is seen that, Manhattan have over 700 Bus Stops and Bronx have approximately 500. ın this case, the quantity of bus stops might have an effect on high prices in Manhattan.\n",
        "</font>"
      ]
    },
    {
      "cell_type": "code",
      "metadata": {
        "id": "5fDKxWYdw5hk",
        "colab": {
          "base_uri": "https://localhost:8080/",
          "height": 330
        },
        "outputId": "789fbe9f-963a-484c-d7f5-205b662fd967"
      },
      "source": [
        "lotCountM = list(df[(df[\"neighbourhood_group\"] == \"Manhattan\")].groupby([\"room_type\"])[\"id\"].count())\n",
        "ManhattanRooms = list(df[df[\"neighbourhood_group\"]== \"Manhattan\"][\"room_type\"].unique())\n",
        "\n",
        "print(lotCountM)\n",
        "print(ManhattanRooms)\n",
        "\n",
        "plt.bar(ManhattanRooms, lotCountM)\n",
        "plt.title(\"Manhattan Lot Types\")\n",
        "plt.xlabel(\"Room Types\")\n",
        "plt.ylabel(\"Number of Lots\")\n",
        "plt.show()"
      ],
      "execution_count": null,
      "outputs": [
        {
          "output_type": "stream",
          "text": [
            "[13199, 7982, 480]\n",
            "['Entire home/apt', 'Private room', 'Shared room']\n"
          ],
          "name": "stdout"
        },
        {
          "output_type": "display_data",
          "data": {
            "image/png": "[encoded data removed]",
            "text/plain": [
              "<Figure size 432x288 with 1 Axes>"
            ]
          },
          "metadata": {
            "tags": [],
            "needs_background": "light"
          }
        }
      ]
    },
    {
      "cell_type": "markdown",
      "metadata": {
        "id": "QvVVs5vqO2uG"
      },
      "source": [
        "<font color = \"brown\">\n",
        "<font size = 4px>\n",
        "In this figure we are able to see how many hosts (lot) exist in different types in Manhattan\n",
        "</font>\n"
      ]
    },
    {
      "cell_type": "code",
      "metadata": {
        "id": "itRN5qkWwMX9",
        "colab": {
          "base_uri": "https://localhost:8080/",
          "height": 330
        },
        "outputId": "e9707645-e6ea-4899-97b4-5c4b38ff8ee6"
      },
      "source": [
        "lotCountB = list(df[(df[\"neighbourhood_group\"] == \"Bronx\")].groupby([\"room_type\"])[\"id\"].count())\n",
        "BronxRooms = list(df[df[\"neighbourhood_group\"]== \"Bronx\"][\"room_type\"].unique())\n",
        "\n",
        "print(lotCountB)\n",
        "print(ManhattanRooms)\n",
        "\n",
        "plt.bar(['Entire home/apt', 'Private room', 'Shared room'], [379, 652, 60])\n",
        "plt.title(\"Bronx Lot Types\")\n",
        "plt.xlabel(\"Room Types\")\n",
        "plt.ylabel(\"Number of Lots\")\n",
        "plt.show()"
      ],
      "execution_count": null,
      "outputs": [
        {
          "output_type": "stream",
          "text": [
            "[379, 652, 60]\n",
            "['Entire home/apt', 'Private room', 'Shared room']\n"
          ],
          "name": "stdout"
        },
        {
          "output_type": "display_data",
          "data": {
            "image/png": "[encoded data removed]",
            "text/plain": [
              "<Figure size 432x288 with 1 Axes>"
            ]
          },
          "metadata": {
            "tags": [],
            "needs_background": "light"
          }
        }
      ]
    },
    {
      "cell_type": "markdown",
      "metadata": {
        "id": "G8j4WdbRP8aJ"
      },
      "source": [
        "<font color = \"brown\">\n",
        "<font size = 4px>\n",
        "In this figure we are able to see how many hosts (lot) exist in different types in Bronx\n",
        "</font>"
      ]
    },
    {
      "cell_type": "code",
      "metadata": {
        "id": "NHlc0n0WJ5X6",
        "colab": {
          "base_uri": "https://localhost:8080/",
          "height": 330
        },
        "outputId": "984b52c2-84aa-4a13-c4e1-c5735e12fa48"
      },
      "source": [
        "aveLotPriceM = list(df[(df[\"neighbourhood_group\"] == \"Manhattan\")].groupby([\"room_type\"])[\"price\"].mean())\n",
        "BronxRooms = list(df[df[\"neighbourhood_group\"]== \"Manhattan\"][\"room_type\"].unique())\n",
        "\n",
        "print(aveLotPriceM)\n",
        "print(BronxRooms)\n",
        "\n",
        "plt.bar(['Private room', 'Entire home/apt', 'Shared room'], aveLotPriceM)\n",
        "plt.title(\"Manhattan lot types\")\n",
        "plt.xlabel(\"Room Types\")\n",
        "plt.ylabel(\"Average price\")\n",
        "plt.show()"
      ],
      "execution_count": null,
      "outputs": [
        {
          "output_type": "stream",
          "text": [
            "[249.23910902341086, 116.7766224004009, 88.97708333333334]\n",
            "['Entire home/apt', 'Private room', 'Shared room']\n"
          ],
          "name": "stdout"
        },
        {
          "output_type": "display_data",
          "data": {
            "image/png": "[encoded data removed]",
            "text/plain": [
              "<Figure size 432x288 with 1 Axes>"
            ]
          },
          "metadata": {
            "tags": [],
            "needs_background": "light"
          }
        }
      ]
    },
    {
      "cell_type": "markdown",
      "metadata": {
        "id": "J_Z9-yTcQAKu"
      },
      "source": [
        "<font color = \"brown\">\n",
        "<font size = 4px>\n",
        "In this figure we are able to see average prices in different lot types in Manhattan.\n",
        "</font>"
      ]
    },
    {
      "cell_type": "code",
      "metadata": {
        "id": "YXtw3CSSMbiR",
        "colab": {
          "base_uri": "https://localhost:8080/",
          "height": 330
        },
        "outputId": "d0df658f-9108-4ea0-de4e-e218dab515b4"
      },
      "source": [
        "aveLotPriceB = list(df[(df[\"neighbourhood_group\"] == \"Bronx\")].groupby([\"room_type\"])[\"price\"].mean())\n",
        "BronxRooms = list(df[df[\"neighbourhood_group\"]== \"Bronx\"][\"room_type\"].unique())\n",
        "\n",
        "print(aveLotPriceB)\n",
        "print(BronxRooms)\n",
        "\n",
        "plt.bar(BronxRooms, aveLotPriceB)\n",
        "plt.title(\"Bronx lot types\")\n",
        "plt.xlabel(\"Room Types\")\n",
        "plt.ylabel(\"Average price\")\n",
        "plt.show()"
      ],
      "execution_count": null,
      "outputs": [
        {
          "output_type": "stream",
          "text": [
            "[127.5065963060686, 66.78834355828221, 59.8]\n",
            "['Private room', 'Entire home/apt', 'Shared room']\n"
          ],
          "name": "stdout"
        },
        {
          "output_type": "display_data",
          "data": {
            "image/png": "[encoded data removed]",
            "text/plain": [
              "<Figure size 432x288 with 1 Axes>"
            ]
          },
          "metadata": {
            "tags": [],
            "needs_background": "light"
          }
        }
      ]
    },
    {
      "cell_type": "markdown",
      "metadata": {
        "id": "CFNh9GHhQmBQ"
      },
      "source": [
        "\n",
        "\n",
        "---\n",
        "\n",
        "\n",
        "<font color = \"brown\">\n",
        "<font size = 4px>\n",
        "In this figure we are able to see average prices in different lot types in Bronx.\n",
        "</font>\n",
        "\n",
        "\n",
        "---\n",
        "\n"
      ]
    },
    {
      "cell_type": "code",
      "metadata": {
        "id": "H9PuIzaBP9_a",
        "colab": {
          "base_uri": "https://localhost:8080/",
          "height": 448
        },
        "outputId": "e491e028-e79f-44fb-900c-9a9002c65dba"
      },
      "source": [
        "cloud = WordCloud(background_color = \"white\", max_words = 200)\n",
        "wordcloud = cloud.generate(str(df['name'].values))\n",
        "plt.figure(figsize = (15,8))\n",
        "plt.imshow(wordcloud)\n",
        "plt.axis('off')\n",
        "plt.show()"
      ],
      "execution_count": null,
      "outputs": [
        {
          "output_type": "display_data",
          "data": {
            "image/png": "[encoded data removed]",
            "text/plain": [
              "<Figure size 1080x576 with 1 Axes>"
            ]
          },
          "metadata": {
            "tags": [],
            "needs_background": "light"
          }
        }
      ]
    },
    {
      "cell_type": "markdown",
      "metadata": {
        "id": "iLDJGDrAQ5wL"
      },
      "source": [
        "<font color = \"brown\">\n",
        "<font size = 4px>\n",
        "These words are most commonly used in the titles of the lots in our main data.\n",
        "</font>"
      ]
    },
    {
      "cell_type": "markdown",
      "metadata": {
        "id": "pxtp0xQXLPRX"
      },
      "source": [
        "\n",
        "\n",
        "---\n",
        "\n",
        "\n",
        "## Future Work\n",
        "\n",
        "<font color=\"blue\">\n",
        "We have seen that Riverdale is by far the most expensive neighbourhood. We thought there might be some unusal condition for Riverdale In future works, we can analyze the data in detail.\n",
        "\n",
        "Our subway data will be used in the future when we dive deeply.\n",
        "\n",
        "---\n",
        "\n",
        "\n",
        "</font>"
      ]
    },
    {
      "cell_type": "code",
      "metadata": {
        "id": "Uasl4kC-mbMa",
        "colab": {
          "base_uri": "https://localhost:8080/",
          "height": 197
        },
        "outputId": "f9216313-df74-4a83-a093-8e9faea4ba6b"
      },
      "source": [
        "#Manhattan's top 5 neighbourhoods\n",
        "df[df[\"neighbourhood_group\"] == \"Manhattan\"][[\"price\",\"neighbourhood\"]].sort_values(by=\"price\", ascending=False).head()"
      ],
      "execution_count": null,
      "outputs": [
        {
          "output_type": "execute_result",
          "data": {
            "text/html": [
              "<div>\n",
              "<style scoped>\n",
              "    .dataframe tbody tr th:only-of-type {\n",
              "        vertical-align: middle;\n",
              "    }\n",
              "\n",
              "    .dataframe tbody tr th {\n",
              "        vertical-align: top;\n",
              "    }\n",
              "\n",
              "    .dataframe thead th {\n",
              "        text-align: right;\n",
              "    }\n",
              "</style>\n",
              "<table border=\"1\" class=\"dataframe\">\n",
              "  <thead>\n",
              "    <tr style=\"text-align: right;\">\n",
              "      <th></th>\n",
              "      <th>price</th>\n",
              "      <th>neighbourhood</th>\n",
              "    </tr>\n",
              "  </thead>\n",
              "  <tbody>\n",
              "    <tr>\n",
              "      <th>29238</th>\n",
              "      <td>10000</td>\n",
              "      <td>Upper West Side</td>\n",
              "    </tr>\n",
              "    <tr>\n",
              "      <th>12342</th>\n",
              "      <td>9999</td>\n",
              "      <td>Lower East Side</td>\n",
              "    </tr>\n",
              "    <tr>\n",
              "      <th>40433</th>\n",
              "      <td>9999</td>\n",
              "      <td>Lower East Side</td>\n",
              "    </tr>\n",
              "    <tr>\n",
              "      <th>6530</th>\n",
              "      <td>9999</td>\n",
              "      <td>East Harlem</td>\n",
              "    </tr>\n",
              "    <tr>\n",
              "      <th>30268</th>\n",
              "      <td>8500</td>\n",
              "      <td>Tribeca</td>\n",
              "    </tr>\n",
              "  </tbody>\n",
              "</table>\n",
              "</div>"
            ],
            "text/plain": [
              "       price    neighbourhood\n",
              "29238  10000  Upper West Side\n",
              "12342   9999  Lower East Side\n",
              "40433   9999  Lower East Side\n",
              "6530    9999      East Harlem\n",
              "30268   8500          Tribeca"
            ]
          },
          "metadata": {
            "tags": []
          },
          "execution_count": 247
        }
      ]
    },
    {
      "cell_type": "code",
      "metadata": {
        "id": "G3wSuyhInYx5",
        "colab": {
          "base_uri": "https://localhost:8080/",
          "height": 197
        },
        "outputId": "810e266c-b726-4890-fe3a-35d97c9569f4"
      },
      "source": [
        "#Bronx's top 5 neighbourhoods\n",
        "df[df[\"neighbourhood_group\"] == \"Bronx\"][[\"price\",\"neighbourhood\"]].sort_values(by=\"price\", ascending=False).head()"
      ],
      "execution_count": null,
      "outputs": [
        {
          "output_type": "execute_result",
          "data": {
            "text/html": [
              "<div>\n",
              "<style scoped>\n",
              "    .dataframe tbody tr th:only-of-type {\n",
              "        vertical-align: middle;\n",
              "    }\n",
              "\n",
              "    .dataframe tbody tr th {\n",
              "        vertical-align: top;\n",
              "    }\n",
              "\n",
              "    .dataframe thead th {\n",
              "        text-align: right;\n",
              "    }\n",
              "</style>\n",
              "<table border=\"1\" class=\"dataframe\">\n",
              "  <thead>\n",
              "    <tr style=\"text-align: right;\">\n",
              "      <th></th>\n",
              "      <th>price</th>\n",
              "      <th>neighbourhood</th>\n",
              "    </tr>\n",
              "  </thead>\n",
              "  <tbody>\n",
              "    <tr>\n",
              "      <th>24477</th>\n",
              "      <td>2500</td>\n",
              "      <td>Riverdale</td>\n",
              "    </tr>\n",
              "    <tr>\n",
              "      <th>48282</th>\n",
              "      <td>1000</td>\n",
              "      <td>City Island</td>\n",
              "    </tr>\n",
              "    <tr>\n",
              "      <th>25422</th>\n",
              "      <td>800</td>\n",
              "      <td>Riverdale</td>\n",
              "    </tr>\n",
              "    <tr>\n",
              "      <th>8521</th>\n",
              "      <td>680</td>\n",
              "      <td>Longwood</td>\n",
              "    </tr>\n",
              "    <tr>\n",
              "      <th>38433</th>\n",
              "      <td>670</td>\n",
              "      <td>Westchester Square</td>\n",
              "    </tr>\n",
              "  </tbody>\n",
              "</table>\n",
              "</div>"
            ],
            "text/plain": [
              "       price       neighbourhood\n",
              "24477   2500           Riverdale\n",
              "48282   1000         City Island\n",
              "25422    800           Riverdale\n",
              "8521     680            Longwood\n",
              "38433    670  Westchester Square"
            ]
          },
          "metadata": {
            "tags": []
          },
          "execution_count": 248
        }
      ]
    },
    {
      "cell_type": "markdown",
      "metadata": {
        "id": "ggi2aBBcvYQe"
      },
      "source": [
        "\n",
        "---\n",
        "\n",
        "\n",
        "#Hypothesis Testing\n",
        "\n",
        "\n",
        "---"
      ]
    },
    {
      "cell_type": "markdown",
      "metadata": {
        "id": "oosI9kK1sYQD"
      },
      "source": [
        "### Sample Hypothesis Test 1 \n",
        "\n",
        "**Hypothesis Test:**\n",
        "We want to test whether there is significant differences in terms of number of reviews for different neighborhood.\n",
        "\n",
        "\n",
        "**Null Hypothesis ($H_0$)**: Means of number of reviews for all different neighborhood are same (e.g.  $rewMan$  denotes Manhattan neighborhood)\n",
        "\n",
        "$ H_0: \\mu_{rewBrx} = \\mu_{rewMan} = \\mu_{rewSta} = \\mu_{rewByn} = \\mu_{rewQue}$\n",
        "\n",
        "**Alternative Hypothesis ($H_A$)**: Means of number of reviews for all target values are not same \n",
        "\n",
        "$H_A$: means $\\mu_{rewBrx}, \\mu_{rewMan}, \\mu_{rewSta}, \\mu_{rewByn},\\mu_{rewQue}$ are not same.\n",
        "\n",
        "**Significance level**: As most of hypothesis tests assume significance level as `0.05`, we are setting it as `0.05` for our test too.\n"
      ]
    },
    {
      "cell_type": "code",
      "metadata": {
        "id": "p0L8qpfQQl8X"
      },
      "source": [
        "sample_Brooklyn,sample_Manhattan,sample_Queens,sample_StatenIsland,sample_Bronx = [df[df['neighbourhood_group'] == i] for i in df.neighbourhood_group.unique()]\n"
      ],
      "execution_count": null,
      "outputs": []
    },
    {
      "cell_type": "code",
      "metadata": {
        "id": "Tqk3Q6zgPT1Z",
        "colab": {
          "base_uri": "https://localhost:8080/",
          "height": 673
        },
        "outputId": "37c1df08-bb99-4f8e-c86e-2ee88f8c453b"
      },
      "source": [
        "\n",
        "fig, ax = plt.subplots(2, 3, figsize=(25,10)) \n",
        "        \n",
        "sample_Manhattan['number_of_reviews'].plot(kind=\"hist\", ax=ax[0][0], bins=50, label=\"none\", color=\"c\", density=True)\n",
        "ax[0][0].set_title(\"Manhattan\")\n",
        "\n",
        "sample_Bronx['number_of_reviews'].plot(kind=\"hist\", ax=ax[0][1], bins=50, label=\"none\", color=\"m\", density=True)\n",
        "ax[0][1].set_title(\"Bronx\")\n",
        "\n",
        "sample_Brooklyn['number_of_reviews'].plot(kind=\"hist\", ax=ax[0][2], bins=50, label=\"none\", color=\"y\", density=True)\n",
        "ax[0][2].set_title(\"Brooklyn\")\n",
        "\n",
        "sample_Queens['number_of_reviews'].plot(kind=\"hist\", ax=ax[1][0], bins=50, label=\"none\", color=\"r\", density=True)\n",
        "ax[1][0].set_title(\"Queens\")\n",
        "\n",
        "sample_StatenIsland['number_of_reviews'].plot(kind=\"hist\", ax=ax[1][1], bins=50, label=\"none\", color=\"b\", density=True)\n",
        "ax[1][1].set_title(\"Staten Island\")\n",
        "\n",
        "sns.kdeplot(sample_Manhattan['number_of_reviews'], shade=True, label=\"Manhattan\", ax=ax[1][2], color=\"c\")\n",
        "sns.kdeplot(sample_Bronx['number_of_reviews'], shade=True, label=\"Bronx\", ax=ax[1][2], color=\"m\")\n",
        "sns.kdeplot(sample_Brooklyn['number_of_reviews'], shade=True, label=\"Brooklyn\", ax=ax[1][2], color=\"y\")\n",
        "sns.kdeplot(sample_Queens['number_of_reviews'], shade=True, label=\"Queens\", ax=ax[1][2], color=\"r\")\n",
        "sns.kdeplot(sample_StatenIsland['number_of_reviews'], shade=True, label=\"Staten Island\", ax=ax[1][2], color=\"b\")\n",
        "ax[1][2].set_title(\"Comparison with Neighbourhood Groups\")\n",
        "\n",
        "plt.suptitle(\"Number of Reviews\")\n",
        "# To avoid suptitle and titles of ax titles colliding\n",
        "plt.tight_layout(rect=[0, 0.03, 1, 0.95])\n",
        "plt.show()"
      ],
      "execution_count": null,
      "outputs": [
        {
          "output_type": "display_data",
          "data": {
            "image/png": "[encoded data removed]",
            "text/plain": [
              "<Figure size 1800x720 with 6 Axes>"
            ]
          },
          "metadata": {
            "tags": [],
            "needs_background": "light"
          }
        }
      ]
    },
    {
      "cell_type": "code",
      "metadata": {
        "colab": {
          "base_uri": "https://localhost:8080/"
        },
        "id": "Gh49anCOZ8hk",
        "outputId": "d7c7c930-8712-4382-d86e-63619518e79c"
      },
      "source": [
        "f_stats, p_values = f_oneway(sample_Manhattan['number_of_reviews'].values, sample_Bronx['number_of_reviews'].values, sample_Brooklyn['number_of_reviews'].values, sample_Queens['number_of_reviews'].values, sample_StatenIsland['number_of_reviews'].values)\n",
        "p_values\n"
      ],
      "execution_count": null,
      "outputs": [
        {
          "output_type": "execute_result",
          "data": {
            "text/plain": [
              "1.1485274809134217e-28"
            ]
          },
          "metadata": {
            "tags": []
          },
          "execution_count": 251
        }
      ]
    },
    {
      "cell_type": "markdown",
      "metadata": {
        "id": "j8dAeEUUqIuH"
      },
      "source": [
        "**Interpretation of result:**\n",
        "\n",
        "> As p-value we obtained is smaller than the threshold significance level 0.05, we can conclude that means of number of reviews are not the same for all 5 neighborhoods. **Here, we reject the null hypothesis.**\n"
      ]
    },
    {
      "cell_type": "markdown",
      "metadata": {
        "id": "vezJ8usqv5R6"
      },
      "source": [
        "### Sample Hypothesis Test 2 \n",
        "**Hypothesis Test:**\n",
        "We want to test whether there is a  significant difference in terms of average prices for different lot types.\n",
        "\n",
        "\n",
        "**Null Hypothesis ($H_0$)**: average prices for all lot types are same (e.g.  $lotP$  denotes Private House lot type)\n",
        "\n",
        "$ H_0: \\mu_{lotP} = \\mu_{lotE} = \\mu_{lotS}$\n",
        "\n",
        "**Alternative Hypothesis ($H_A$)**: average prices for all lot types are not same (e.g.  $lotP$  denotes Private House lot type)\n",
        "\n",
        "$ H_A$: means of $\\mu_{lotP}, \\mu_{lotE}, \\mu_{lotS}$ are not same.\n",
        "\n",
        "**Significance level**: As most of hypothesis tests assume significance level as `0.05`, we are setting it as `0.05` for our test too.\n"
      ]
    },
    {
      "cell_type": "code",
      "metadata": {
        "id": "bSZugvVn4L6_"
      },
      "source": [
        "priv,ent,sha = [df[df['room_type'] == i] for i in df.room_type.unique()]"
      ],
      "execution_count": null,
      "outputs": []
    },
    {
      "cell_type": "code",
      "metadata": {
        "colab": {
          "base_uri": "https://localhost:8080/",
          "height": 673
        },
        "id": "MZXZsmPUzj_V",
        "outputId": "cefff87e-befd-4c9c-ccb5-d25602c2ae2d"
      },
      "source": [
        "fig, ax = plt.subplots(2, 2, figsize=(25,10)) \n",
        "        \n",
        "priv['price'].plot(kind=\"hist\", ax=ax[0][0], bins=50, label=\"Private room\", color=\"c\", density=True)\n",
        "ax[0][0].set_title(\"Private room\")\n",
        "\n",
        "ent['price'].plot(kind=\"hist\", ax=ax[0][1], bins=50, label=\"Entire house/apt\", color=\"m\", density=True)\n",
        "ax[0][1].set_title(\"Entire house/apt\")\n",
        "\n",
        "sha['price'].plot(kind=\"hist\", ax=ax[1][0], bins=50, label=\"Shared room\", color=\"y\", density=True)\n",
        "ax[1][0].set_title(\"Shared room\")\n",
        "\n",
        "sns.kdeplot(sample_Manhattan['price'], shade=True, label=\"Private room\", ax=ax[1][1], color=\"c\")\n",
        "sns.kdeplot(sample_Bronx['price'], shade=True, label=\"Entire house/apt\", ax=ax[1][1], color=\"m\")\n",
        "sns.kdeplot(sample_Brooklyn['price'], shade=True, label=\"Shared room\", ax=ax[1][1], color=\"y\")\n",
        "\n",
        "ax[1][1].set_title(\"Comparison with Lot Types\")\n",
        "\n",
        "plt.suptitle(\"Price\")\n",
        "# To avoid suptitle and titles of ax titles colliding\n",
        "plt.tight_layout(rect=[0, 0.03, 1, 0.95])\n",
        "plt.show()\n"
      ],
      "execution_count": null,
      "outputs": [
        {
          "output_type": "display_data",
          "data": {
            "image/png": "[encoded data removed]",
            "text/plain": [
              "<Figure size 1800x720 with 4 Axes>"
            ]
          },
          "metadata": {
            "tags": [],
            "needs_background": "light"
          }
        }
      ]
    },
    {
      "cell_type": "code",
      "metadata": {
        "id": "17ho5XjHWFun",
        "colab": {
          "base_uri": "https://localhost:8080/"
        },
        "outputId": "70336ed0-0341-4c44-da4f-e0f4113266e6"
      },
      "source": [
        "f_stats, p_values = f_oneway(priv['price'].values, ent['price'].values, sha['price'].values)\n",
        "p_values\n"
      ],
      "execution_count": null,
      "outputs": [
        {
          "output_type": "execute_result",
          "data": {
            "text/plain": [
              "0.0"
            ]
          },
          "metadata": {
            "tags": []
          },
          "execution_count": 390
        }
      ]
    },
    {
      "cell_type": "markdown",
      "metadata": {
        "id": "tmcjYvKJ6pw8"
      },
      "source": [
        "**Interpretation of result:**\n",
        "\n",
        "> As p-value we obtained is smaller than the threshold significance level 0.05, we can conclude that avarage prices for all lot types are not the same for all neighborhood groups. **Here, we reject the null hypothesis.**"
      ]
    },
    {
      "cell_type": "markdown",
      "metadata": {
        "id": "SGpiS2_UBjG-"
      },
      "source": [
        "### Sample Hypothesis Test 3   \n",
        "\n",
        "**Sample 1:** Houses with subway stations within 5 km range\n",
        "\n",
        "**Sample 2:** Houses with subway stations outside 5 km range\n",
        "\n",
        "**Hypothesis Test:** We want to determine whether proximity of subway stations's are directly proportional to the average price of that place.\n",
        "\n",
        "**Null Hypothesis ($H_0$)**: The average price of sample 1 $(\\mu_{1})$ is equal to the average price of sample 2 $(\\mu_{2})$.\n",
        "\n",
        "$ H_0: \\mu_{1} = \\mu_{2}$\n",
        "\n",
        "**Alternative Hypothesis ($H_A$)**: The average price of sample 1 $(\\mu_{1})$ is not equal to the average price of sample 2 $(\\mu_{2})$.\n",
        "\n",
        "$ H_A: \\mu_{1} != \\mu_{2}$\n",
        "\n",
        "**Significance level**: As most of hypothesis tests assume significance level as `0.05`, we are setting it as `0.05` for our test too. "
      ]
    },
    {
      "cell_type": "code",
      "metadata": {
        "id": "BAB5bJuAUjSo",
        "colab": {
          "base_uri": "https://localhost:8080/",
          "height": 197
        },
        "outputId": "7d864e61-4662-4aa8-bb39-ac4d30bc9146"
      },
      "source": [
        "latlist = []\n",
        "lonlist = []\n",
        "for i in dataframe4[\"the_geom\"].to_list():\n",
        "  latlist.append(float(i.split()[2][:-1]))\n",
        "  lonlist.append(float(i.split()[1][1:])) \n",
        "\n",
        "dataframe4[\"longitude\"] = lonlist\n",
        "dataframe4[\"latitude\"] = latlist\n",
        "dataframe4.head()"
      ],
      "execution_count": null,
      "outputs": [
        {
          "output_type": "execute_result",
          "data": {
            "text/html": [
              "<div>\n",
              "<style scoped>\n",
              "    .dataframe tbody tr th:only-of-type {\n",
              "        vertical-align: middle;\n",
              "    }\n",
              "\n",
              "    .dataframe tbody tr th {\n",
              "        vertical-align: top;\n",
              "    }\n",
              "\n",
              "    .dataframe thead th {\n",
              "        text-align: right;\n",
              "    }\n",
              "</style>\n",
              "<table border=\"1\" class=\"dataframe\">\n",
              "  <thead>\n",
              "    <tr style=\"text-align: right;\">\n",
              "      <th></th>\n",
              "      <th>URL</th>\n",
              "      <th>OBJECTID</th>\n",
              "      <th>NAME</th>\n",
              "      <th>the_geom</th>\n",
              "      <th>LINE</th>\n",
              "      <th>NOTES</th>\n",
              "      <th>longitude</th>\n",
              "      <th>latitude</th>\n",
              "    </tr>\n",
              "  </thead>\n",
              "  <tbody>\n",
              "    <tr>\n",
              "      <th>0</th>\n",
              "      <td>http://web.mta.info/nyct/service/</td>\n",
              "      <td>1</td>\n",
              "      <td>Astor Pl</td>\n",
              "      <td>POINT (-73.99106999861966 40.73005400028978)</td>\n",
              "      <td>4-6-6 Express</td>\n",
              "      <td>4 nights, 6-all times, 6 Express-weekdays AM s...</td>\n",
              "      <td>-73.991070</td>\n",
              "      <td>40.730054</td>\n",
              "    </tr>\n",
              "    <tr>\n",
              "      <th>1</th>\n",
              "      <td>http://web.mta.info/nyct/service/</td>\n",
              "      <td>2</td>\n",
              "      <td>Canal St</td>\n",
              "      <td>POINT (-74.00019299927328 40.71880300107709)</td>\n",
              "      <td>4-6-6 Express</td>\n",
              "      <td>4 nights, 6-all times, 6 Express-weekdays AM s...</td>\n",
              "      <td>-74.000193</td>\n",
              "      <td>40.718803</td>\n",
              "    </tr>\n",
              "    <tr>\n",
              "      <th>2</th>\n",
              "      <td>http://web.mta.info/nyct/service/</td>\n",
              "      <td>3</td>\n",
              "      <td>50th St</td>\n",
              "      <td>POINT (-73.98384899986625 40.76172799961419)</td>\n",
              "      <td>1-2</td>\n",
              "      <td>1-all times, 2-nights</td>\n",
              "      <td>-73.983849</td>\n",
              "      <td>40.761728</td>\n",
              "    </tr>\n",
              "    <tr>\n",
              "      <th>3</th>\n",
              "      <td>http://web.mta.info/nyct/service/</td>\n",
              "      <td>4</td>\n",
              "      <td>Bergen St</td>\n",
              "      <td>POINT (-73.97499915116808 40.68086213682956)</td>\n",
              "      <td>2-3-4</td>\n",
              "      <td>4-nights, 3-all other times, 2-all times</td>\n",
              "      <td>-73.974999</td>\n",
              "      <td>40.680862</td>\n",
              "    </tr>\n",
              "    <tr>\n",
              "      <th>4</th>\n",
              "      <td>http://web.mta.info/nyct/service/</td>\n",
              "      <td>5</td>\n",
              "      <td>Pennsylvania Ave</td>\n",
              "      <td>POINT (-73.89488591154061 40.66471445143568)</td>\n",
              "      <td>3-4</td>\n",
              "      <td>4-nights, 3-all other times</td>\n",
              "      <td>-73.894886</td>\n",
              "      <td>40.664714</td>\n",
              "    </tr>\n",
              "  </tbody>\n",
              "</table>\n",
              "</div>"
            ],
            "text/plain": [
              "                                 URL  OBJECTID  ...  longitude   latitude\n",
              "0  http://web.mta.info/nyct/service/         1  ... -73.991070  40.730054\n",
              "1  http://web.mta.info/nyct/service/         2  ... -74.000193  40.718803\n",
              "2  http://web.mta.info/nyct/service/         3  ... -73.983849  40.761728\n",
              "3  http://web.mta.info/nyct/service/         4  ... -73.974999  40.680862\n",
              "4  http://web.mta.info/nyct/service/         5  ... -73.894886  40.664714\n",
              "\n",
              "[5 rows x 8 columns]"
            ]
          },
          "metadata": {
            "tags": []
          },
          "execution_count": 255
        }
      ]
    },
    {
      "cell_type": "code",
      "metadata": {
        "id": "WFcbfUjEEr9V",
        "colab": {
          "base_uri": "https://localhost:8080/"
        },
        "outputId": "01a1cc01-cff3-4758-9944-642735daa744"
      },
      "source": [
        "from sklearn.neighbors import BallTree\n",
        "from math import radians\n",
        "\n",
        "listing_locs = df[[\"latitude\", \"longitude\"]].values\n",
        "subway_locs = dataframe4[[\"latitude\", \"longitude\"]].values\n",
        "tree = BallTree(subway_locs, metric=\"haversine\")\n",
        "nearest_distances, nearest_subway_indices = tree.query(listing_locs)\n",
        "nearest_distances[0] "
      ],
      "execution_count": null,
      "outputs": [
        {
          "output_type": "execute_result",
          "data": {
            "text/plain": [
              "array([0.00469205])"
            ]
          },
          "metadata": {
            "tags": []
          },
          "execution_count": 256
        }
      ]
    },
    {
      "cell_type": "code",
      "metadata": {
        "id": "IpRTv0HVJjbG"
      },
      "source": [
        "nearest_distances_km = []\n",
        "for i in nearest_distances:\n",
        "  nearest_distances_km.append(i * 6371)\n",
        "#We multiplied i with 6371 because earth's radius is 6371 km. "
      ],
      "execution_count": null,
      "outputs": []
    },
    {
      "cell_type": "code",
      "metadata": {
        "colab": {
          "base_uri": "https://localhost:8080/",
          "height": 401
        },
        "id": "Ft67Ev6gpvll",
        "outputId": "53ce30fa-611e-4143-fc8b-6fb857ed0aed"
      },
      "source": [
        "df.head()"
      ],
      "execution_count": null,
      "outputs": [
        {
          "output_type": "execute_result",
          "data": {
            "text/html": [
              "<div>\n",
              "<style scoped>\n",
              "    .dataframe tbody tr th:only-of-type {\n",
              "        vertical-align: middle;\n",
              "    }\n",
              "\n",
              "    .dataframe tbody tr th {\n",
              "        vertical-align: top;\n",
              "    }\n",
              "\n",
              "    .dataframe thead th {\n",
              "        text-align: right;\n",
              "    }\n",
              "</style>\n",
              "<table border=\"1\" class=\"dataframe\">\n",
              "  <thead>\n",
              "    <tr style=\"text-align: right;\">\n",
              "      <th></th>\n",
              "      <th>id</th>\n",
              "      <th>name</th>\n",
              "      <th>host_id</th>\n",
              "      <th>host_name</th>\n",
              "      <th>neighbourhood_group</th>\n",
              "      <th>neighbourhood</th>\n",
              "      <th>latitude</th>\n",
              "      <th>longitude</th>\n",
              "      <th>room_type</th>\n",
              "      <th>price</th>\n",
              "      <th>minimum_nights</th>\n",
              "      <th>number_of_reviews</th>\n",
              "      <th>last_review</th>\n",
              "      <th>reviews_per_month</th>\n",
              "      <th>calculated_host_listings_count</th>\n",
              "      <th>availability_365</th>\n",
              "    </tr>\n",
              "  </thead>\n",
              "  <tbody>\n",
              "    <tr>\n",
              "      <th>0</th>\n",
              "      <td>2539</td>\n",
              "      <td>Clean &amp; quiet apt home by the park</td>\n",
              "      <td>2787</td>\n",
              "      <td>John</td>\n",
              "      <td>Brooklyn</td>\n",
              "      <td>Kensington</td>\n",
              "      <td>40.64749</td>\n",
              "      <td>-73.97237</td>\n",
              "      <td>Private room</td>\n",
              "      <td>149</td>\n",
              "      <td>1</td>\n",
              "      <td>9</td>\n",
              "      <td>2018-10-19</td>\n",
              "      <td>0.21</td>\n",
              "      <td>6</td>\n",
              "      <td>365</td>\n",
              "    </tr>\n",
              "    <tr>\n",
              "      <th>1</th>\n",
              "      <td>2595</td>\n",
              "      <td>Skylit Midtown Castle</td>\n",
              "      <td>2845</td>\n",
              "      <td>Jennifer</td>\n",
              "      <td>Manhattan</td>\n",
              "      <td>Midtown</td>\n",
              "      <td>40.75362</td>\n",
              "      <td>-73.98377</td>\n",
              "      <td>Entire home/apt</td>\n",
              "      <td>225</td>\n",
              "      <td>1</td>\n",
              "      <td>45</td>\n",
              "      <td>2019-05-21</td>\n",
              "      <td>0.38</td>\n",
              "      <td>2</td>\n",
              "      <td>355</td>\n",
              "    </tr>\n",
              "    <tr>\n",
              "      <th>2</th>\n",
              "      <td>3647</td>\n",
              "      <td>THE VILLAGE OF HARLEM....NEW YORK !</td>\n",
              "      <td>4632</td>\n",
              "      <td>Elisabeth</td>\n",
              "      <td>Manhattan</td>\n",
              "      <td>Harlem</td>\n",
              "      <td>40.80902</td>\n",
              "      <td>-73.94190</td>\n",
              "      <td>Private room</td>\n",
              "      <td>150</td>\n",
              "      <td>3</td>\n",
              "      <td>0</td>\n",
              "      <td>NaN</td>\n",
              "      <td>NaN</td>\n",
              "      <td>1</td>\n",
              "      <td>365</td>\n",
              "    </tr>\n",
              "    <tr>\n",
              "      <th>3</th>\n",
              "      <td>3831</td>\n",
              "      <td>Cozy Entire Floor of Brownstone</td>\n",
              "      <td>4869</td>\n",
              "      <td>LisaRoxanne</td>\n",
              "      <td>Brooklyn</td>\n",
              "      <td>Clinton Hill</td>\n",
              "      <td>40.68514</td>\n",
              "      <td>-73.95976</td>\n",
              "      <td>Entire home/apt</td>\n",
              "      <td>89</td>\n",
              "      <td>1</td>\n",
              "      <td>270</td>\n",
              "      <td>2019-07-05</td>\n",
              "      <td>4.64</td>\n",
              "      <td>1</td>\n",
              "      <td>194</td>\n",
              "    </tr>\n",
              "    <tr>\n",
              "      <th>4</th>\n",
              "      <td>5022</td>\n",
              "      <td>Entire Apt: Spacious Studio/Loft by central park</td>\n",
              "      <td>7192</td>\n",
              "      <td>Laura</td>\n",
              "      <td>Manhattan</td>\n",
              "      <td>East Harlem</td>\n",
              "      <td>40.79851</td>\n",
              "      <td>-73.94399</td>\n",
              "      <td>Entire home/apt</td>\n",
              "      <td>80</td>\n",
              "      <td>10</td>\n",
              "      <td>9</td>\n",
              "      <td>2018-11-19</td>\n",
              "      <td>0.10</td>\n",
              "      <td>1</td>\n",
              "      <td>0</td>\n",
              "    </tr>\n",
              "  </tbody>\n",
              "</table>\n",
              "</div>"
            ],
            "text/plain": [
              "     id  ... availability_365\n",
              "0  2539  ...              365\n",
              "1  2595  ...              355\n",
              "2  3647  ...              365\n",
              "3  3831  ...              194\n",
              "4  5022  ...                0\n",
              "\n",
              "[5 rows x 16 columns]"
            ]
          },
          "metadata": {
            "tags": []
          },
          "execution_count": 258
        }
      ]
    },
    {
      "cell_type": "code",
      "metadata": {
        "id": "PzpN_IqzUuOT",
        "colab": {
          "base_uri": "https://localhost:8080/",
          "height": 278
        },
        "outputId": "ed0ccacb-5e56-4a64-cb84-02cd6988e6ca"
      },
      "source": [
        "x = list(df[\"price\"])\n",
        "y = nearest_distances_km\n",
        "plt.scatter(y, x)\n",
        "\n",
        "plt.ylabel(\"Price \")\n",
        "plt.xlabel(\"Distance in km\")\n",
        "plt.show()"
      ],
      "execution_count": null,
      "outputs": [
        {
          "output_type": "display_data",
          "data": {
            "image/png": "[encoded data removed]",
            "text/plain": [
              "<Figure size 432x288 with 1 Axes>"
            ]
          },
          "metadata": {
            "tags": [],
            "needs_background": "light"
          }
        }
      ]
    },
    {
      "cell_type": "markdown",
      "metadata": {
        "id": "VrLQPeWhhVkm"
      },
      "source": [
        "<font color = \"brown\">\n",
        "<font size = 4px>\n",
        "Scatter plot which indicates the distribution of the distance of subway stations to lots in terms of price\n",
        "</font>"
      ]
    },
    {
      "cell_type": "code",
      "metadata": {
        "colab": {
          "base_uri": "https://localhost:8080/",
          "height": 431
        },
        "id": "lLyNsBY0IUmk",
        "outputId": "6d522aae-a1a0-432f-d38f-0776a0f914a7"
      },
      "source": [
        "isLessThan = []\n",
        "for i in nearest_distances_km:\n",
        "  if i < 5:\n",
        "    isLessThan.append(1)\n",
        "  else:\n",
        "    isLessThan.append(0)\n",
        "df[\"isLessThan5Km\"] = isLessThan\n",
        "\n",
        "test_type = \"price\"\n",
        "\n",
        "lessThan = df[df[\"isLessThan5Km\"] == 1][test_type]\n",
        "greaterThan = df[df[\"isLessThan5Km\"] == 0][test_type]\n",
        "\n",
        "fig, ax = plt.subplots(1, 3, figsize=(24,6))\n",
        "\n",
        "lessThan.plot(kind=\"hist\", ax=ax[0], bins=1000, label=\"lessThan\", color=\"c\", density=True)\n",
        "ax[0].set_title(\"Within 5 km\")\n",
        "ax[0].set_xlim(0,1000)\n",
        "ax[0].set(xlabel=\"Price\", ylabel=\"Frequency\")\n",
        "\n",
        "greaterThan.plot(kind=\"hist\", ax=ax[1], bins=1000, label=\"greaterThan\", color=\"m\", density=True)\n",
        "ax[1].set_title(\"Not within 5 km\")\n",
        "ax[1].set_xlim(0,1000)\n",
        "ax[1].set(xlabel=\"Price\", ylabel=\"Frequency\")\n",
        "\n",
        "sns.kdeplot(lessThan, shade=True, label=\"Within 5 km\", ax=ax[2], color=\"c\")\n",
        "sns.kdeplot(greaterThan, shade=True, label=\"Not within 5 km\", ax=ax[2], color=\"m\")\n",
        "\n",
        "ax[2].set_title(\"Comparison with KDE\")\n",
        "ax[2].set_xlim(0,1000)\n",
        "ax[2].set(xlabel=\"Price\", ylabel=\"Frequency\")\n",
        "\n",
        "plt.suptitle(\"Distance-price distribution\")\n",
        "plt.show()"
      ],
      "execution_count": null,
      "outputs": [
        {
          "output_type": "display_data",
          "data": {
            "image/png": "[encoded data removed]",
            "text/plain": [
              "<Figure size 1728x432 with 3 Axes>"
            ]
          },
          "metadata": {
            "tags": [],
            "needs_background": "light"
          }
        }
      ]
    },
    {
      "cell_type": "markdown",
      "metadata": {
        "id": "HsAHBZtiiXBs"
      },
      "source": [
        "**T-test:**\n",
        "\n"
      ]
    },
    {
      "cell_type": "code",
      "metadata": {
        "colab": {
          "base_uri": "https://localhost:8080/"
        },
        "id": "JD0dkUwlnRpn",
        "outputId": "e7ef0224-b30b-492e-8e05-2796e7becc38"
      },
      "source": [
        "stats.ttest_ind(lessThan, greaterThan, equal_var=False)"
      ],
      "execution_count": null,
      "outputs": [
        {
          "output_type": "execute_result",
          "data": {
            "text/plain": [
              "Ttest_indResult(statistic=3.9795311987114657, pvalue=7.146786987428628e-05)"
            ]
          },
          "metadata": {
            "tags": []
          },
          "execution_count": 261
        }
      ]
    },
    {
      "cell_type": "markdown",
      "metadata": {
        "id": "JPzNAS4RnRA_"
      },
      "source": [
        "**Interpretation of result:**\n",
        "\n",
        "> As p-value we obtained is smaller than the threshold significance level 0.05, we can conclude that proximity of subway stations's are not directly proportional to the average price of that place. **Here, we reject the null hypothesis.**"
      ]
    },
    {
      "cell_type": "markdown",
      "metadata": {
        "id": "SdsKx3u-H2J1"
      },
      "source": [
        "### Sample Hypothesis Test 4\n",
        "\n",
        "**Sample 1:** Houses with POI's within 25 km range\n",
        "\n",
        "**Sample 2:** Houses with POI's outside 25 km range\n",
        "\n",
        "**Hypothesis Test:** We want to determine whether proximity of POI's are directly proportional to the average price of that place.\n",
        "\n",
        "**Null Hypothesis ($H_0$)**: The average price of sample 1 $(\\mu_{1})$ is equal to the average price of sample 2 $(\\mu_{2})$.\n",
        "\n",
        "$ H_0: \\mu_{1} = \\mu_{2}$\n",
        "\n",
        "**Alternative Hypothesis ($H_A$)**: The average price of sample 1 $(\\mu_{1})$ is not equal to the average price of sample 2 $(\\mu_{2})$.\n",
        "\n",
        "$ H_A: \\mu_{1} != \\mu_{2}$\n",
        "\n",
        "**Significance level**: As most of hypothesis tests assume significance level as `0.05`, we are setting it as `0.05` for our test too."
      ]
    },
    {
      "cell_type": "code",
      "metadata": {
        "colab": {
          "base_uri": "https://localhost:8080/",
          "height": 406
        },
        "id": "Y-0DqCbpMj4o",
        "outputId": "5f0e2a60-f6eb-4f47-8439-4418d8c1d3a0"
      },
      "source": [
        "latlistPOI = []\n",
        "lonlistPOI = []\n",
        "for i in dataframe2[\"the_geom\"].to_list():\n",
        "  latlistPOI.append(float(i.split()[2][:-1]))\n",
        "  lonlistPOI.append(float(i.split()[1][1:])) \n",
        "\n",
        "dataframe2[\"longitude\"] = lonlistPOI\n",
        "dataframe2[\"latitude\"] = latlistPOI\n",
        "dataframe2"
      ],
      "execution_count": null,
      "outputs": [
        {
          "output_type": "execute_result",
          "data": {
            "text/html": [
              "<div>\n",
              "<style scoped>\n",
              "    .dataframe tbody tr th:only-of-type {\n",
              "        vertical-align: middle;\n",
              "    }\n",
              "\n",
              "    .dataframe tbody tr th {\n",
              "        vertical-align: top;\n",
              "    }\n",
              "\n",
              "    .dataframe thead th {\n",
              "        text-align: right;\n",
              "    }\n",
              "</style>\n",
              "<table border=\"1\" class=\"dataframe\">\n",
              "  <thead>\n",
              "    <tr style=\"text-align: right;\">\n",
              "      <th></th>\n",
              "      <th>the_geom</th>\n",
              "      <th>OBJECTID</th>\n",
              "      <th>Id</th>\n",
              "      <th>Name</th>\n",
              "      <th>Stacked</th>\n",
              "      <th>AnnoLine1</th>\n",
              "      <th>AnnoLine3</th>\n",
              "      <th>Borough</th>\n",
              "      <th>AnnoLine4</th>\n",
              "      <th>AnnoLine2a</th>\n",
              "      <th>Angle</th>\n",
              "      <th>longitude</th>\n",
              "      <th>latitude</th>\n",
              "    </tr>\n",
              "  </thead>\n",
              "  <tbody>\n",
              "    <tr>\n",
              "      <th>0</th>\n",
              "      <td>POINT (-73.88895811640342 40.8962098695574)</td>\n",
              "      <td>1</td>\n",
              "      <td>90</td>\n",
              "      <td>Van Cortlandt Park</td>\n",
              "      <td>3</td>\n",
              "      <td>Van</td>\n",
              "      <td>Park</td>\n",
              "      <td>Bronx</td>\n",
              "      <td>NaN</td>\n",
              "      <td>Cortlandt</td>\n",
              "      <td>0</td>\n",
              "      <td>-73.888958</td>\n",
              "      <td>40.896210</td>\n",
              "    </tr>\n",
              "    <tr>\n",
              "      <th>1</th>\n",
              "      <td>POINT (-73.87165102682086 40.88987947152594)</td>\n",
              "      <td>2</td>\n",
              "      <td>95</td>\n",
              "      <td>Woodlawn Cemetery</td>\n",
              "      <td>2</td>\n",
              "      <td>Woodlawn</td>\n",
              "      <td>NaN</td>\n",
              "      <td>Bronx</td>\n",
              "      <td>NaN</td>\n",
              "      <td>Cemetery</td>\n",
              "      <td>0</td>\n",
              "      <td>-73.871651</td>\n",
              "      <td>40.889879</td>\n",
              "    </tr>\n",
              "    <tr>\n",
              "      <th>2</th>\n",
              "      <td>POINT (-73.8386418872537 40.88696522165708)</td>\n",
              "      <td>3</td>\n",
              "      <td>81</td>\n",
              "      <td>Seton Falls Park</td>\n",
              "      <td>3</td>\n",
              "      <td>Seton</td>\n",
              "      <td>Park</td>\n",
              "      <td>Bronx</td>\n",
              "      <td>NaN</td>\n",
              "      <td>Falls</td>\n",
              "      <td>0</td>\n",
              "      <td>-73.838642</td>\n",
              "      <td>40.886965</td>\n",
              "    </tr>\n",
              "    <tr>\n",
              "      <th>3</th>\n",
              "      <td>POINT (-73.80980242290379 40.87798554992497)</td>\n",
              "      <td>4</td>\n",
              "      <td>69</td>\n",
              "      <td>Pelham Bay Park</td>\n",
              "      <td>3</td>\n",
              "      <td>Pelham</td>\n",
              "      <td>Park</td>\n",
              "      <td>Bronx</td>\n",
              "      <td>NaN</td>\n",
              "      <td>Bay</td>\n",
              "      <td>0</td>\n",
              "      <td>-73.809802</td>\n",
              "      <td>40.877986</td>\n",
              "    </tr>\n",
              "    <tr>\n",
              "      <th>4</th>\n",
              "      <td>POINT (-73.87830775950145 40.864423947038276)</td>\n",
              "      <td>5</td>\n",
              "      <td>8</td>\n",
              "      <td>Botanical Garden</td>\n",
              "      <td>2</td>\n",
              "      <td>Botanical</td>\n",
              "      <td>NaN</td>\n",
              "      <td>Bronx</td>\n",
              "      <td>NaN</td>\n",
              "      <td>Garden</td>\n",
              "      <td>0</td>\n",
              "      <td>-73.878308</td>\n",
              "      <td>40.864424</td>\n",
              "    </tr>\n",
              "    <tr>\n",
              "      <th>...</th>\n",
              "      <td>...</td>\n",
              "      <td>...</td>\n",
              "      <td>...</td>\n",
              "      <td>...</td>\n",
              "      <td>...</td>\n",
              "      <td>...</td>\n",
              "      <td>...</td>\n",
              "      <td>...</td>\n",
              "      <td>...</td>\n",
              "      <td>...</td>\n",
              "      <td>...</td>\n",
              "      <td>...</td>\n",
              "      <td>...</td>\n",
              "    </tr>\n",
              "    <tr>\n",
              "      <th>91</th>\n",
              "      <td>POINT (-73.89847195245063 40.76444875872217)</td>\n",
              "      <td>102</td>\n",
              "      <td>80</td>\n",
              "      <td>Saint Michael's Cemetery</td>\n",
              "      <td>2</td>\n",
              "      <td>St. Michael's</td>\n",
              "      <td>NaN</td>\n",
              "      <td>Queens</td>\n",
              "      <td>NaN</td>\n",
              "      <td>Cemetery</td>\n",
              "      <td>0</td>\n",
              "      <td>-73.898472</td>\n",
              "      <td>40.764449</td>\n",
              "    </tr>\n",
              "    <tr>\n",
              "      <th>92</th>\n",
              "      <td>POINT (-73.91682910729087 40.89230556742364)</td>\n",
              "      <td>103</td>\n",
              "      <td>75</td>\n",
              "      <td>Riverdale Park</td>\n",
              "      <td>1</td>\n",
              "      <td>Riverdale Park</td>\n",
              "      <td>NaN</td>\n",
              "      <td>Bronx</td>\n",
              "      <td>NaN</td>\n",
              "      <td>Park</td>\n",
              "      <td>75</td>\n",
              "      <td>-73.916829</td>\n",
              "      <td>40.892306</td>\n",
              "    </tr>\n",
              "    <tr>\n",
              "      <th>93</th>\n",
              "      <td>POINT (-73.86271386920103 40.69944758256273)</td>\n",
              "      <td>105</td>\n",
              "      <td>31</td>\n",
              "      <td>Forest Park (Golf Course)</td>\n",
              "      <td>1</td>\n",
              "      <td>Forest</td>\n",
              "      <td>NaN</td>\n",
              "      <td>Queens</td>\n",
              "      <td>NaN</td>\n",
              "      <td>NaN</td>\n",
              "      <td>0</td>\n",
              "      <td>-73.862714</td>\n",
              "      <td>40.699448</td>\n",
              "    </tr>\n",
              "    <tr>\n",
              "      <th>94</th>\n",
              "      <td>POINT (-73.86501941871359 40.64582806586263)</td>\n",
              "      <td>108</td>\n",
              "      <td>87</td>\n",
              "      <td>Spring Creek Park Preserve (No Access)</td>\n",
              "      <td>2</td>\n",
              "      <td>Spring Creek</td>\n",
              "      <td>NaN</td>\n",
              "      <td>Brooklyn</td>\n",
              "      <td>NaN</td>\n",
              "      <td>Park</td>\n",
              "      <td>0</td>\n",
              "      <td>-73.865019</td>\n",
              "      <td>40.645828</td>\n",
              "    </tr>\n",
              "    <tr>\n",
              "      <th>95</th>\n",
              "      <td>POINT (-73.84421119173001 40.64631600114786)</td>\n",
              "      <td>109</td>\n",
              "      <td>86</td>\n",
              "      <td>Spring Creek Park Gateway National Recreation ...</td>\n",
              "      <td>2</td>\n",
              "      <td>Spring Creek</td>\n",
              "      <td>NaN</td>\n",
              "      <td>Queens</td>\n",
              "      <td>NaN</td>\n",
              "      <td>Park</td>\n",
              "      <td>0</td>\n",
              "      <td>-73.844211</td>\n",
              "      <td>40.646316</td>\n",
              "    </tr>\n",
              "  </tbody>\n",
              "</table>\n",
              "<p>96 rows × 13 columns</p>\n",
              "</div>"
            ],
            "text/plain": [
              "                                         the_geom  ...   latitude\n",
              "0     POINT (-73.88895811640342 40.8962098695574)  ...  40.896210\n",
              "1    POINT (-73.87165102682086 40.88987947152594)  ...  40.889879\n",
              "2     POINT (-73.8386418872537 40.88696522165708)  ...  40.886965\n",
              "3    POINT (-73.80980242290379 40.87798554992497)  ...  40.877986\n",
              "4   POINT (-73.87830775950145 40.864423947038276)  ...  40.864424\n",
              "..                                            ...  ...        ...\n",
              "91   POINT (-73.89847195245063 40.76444875872217)  ...  40.764449\n",
              "92   POINT (-73.91682910729087 40.89230556742364)  ...  40.892306\n",
              "93   POINT (-73.86271386920103 40.69944758256273)  ...  40.699448\n",
              "94   POINT (-73.86501941871359 40.64582806586263)  ...  40.645828\n",
              "95   POINT (-73.84421119173001 40.64631600114786)  ...  40.646316\n",
              "\n",
              "[96 rows x 13 columns]"
            ]
          },
          "metadata": {
            "tags": []
          },
          "execution_count": 262
        }
      ]
    },
    {
      "cell_type": "code",
      "metadata": {
        "colab": {
          "base_uri": "https://localhost:8080/",
          "height": 197
        },
        "id": "_f_Oj-7mpGyz",
        "outputId": "d2711e78-6f9a-4937-97c4-dd34f4ab171f"
      },
      "source": [
        "dataframe2.head()"
      ],
      "execution_count": null,
      "outputs": [
        {
          "output_type": "execute_result",
          "data": {
            "text/html": [
              "<div>\n",
              "<style scoped>\n",
              "    .dataframe tbody tr th:only-of-type {\n",
              "        vertical-align: middle;\n",
              "    }\n",
              "\n",
              "    .dataframe tbody tr th {\n",
              "        vertical-align: top;\n",
              "    }\n",
              "\n",
              "    .dataframe thead th {\n",
              "        text-align: right;\n",
              "    }\n",
              "</style>\n",
              "<table border=\"1\" class=\"dataframe\">\n",
              "  <thead>\n",
              "    <tr style=\"text-align: right;\">\n",
              "      <th></th>\n",
              "      <th>the_geom</th>\n",
              "      <th>OBJECTID</th>\n",
              "      <th>Id</th>\n",
              "      <th>Name</th>\n",
              "      <th>Stacked</th>\n",
              "      <th>AnnoLine1</th>\n",
              "      <th>AnnoLine3</th>\n",
              "      <th>Borough</th>\n",
              "      <th>AnnoLine4</th>\n",
              "      <th>AnnoLine2a</th>\n",
              "      <th>Angle</th>\n",
              "      <th>longitude</th>\n",
              "      <th>latitude</th>\n",
              "    </tr>\n",
              "  </thead>\n",
              "  <tbody>\n",
              "    <tr>\n",
              "      <th>0</th>\n",
              "      <td>POINT (-73.88895811640342 40.8962098695574)</td>\n",
              "      <td>1</td>\n",
              "      <td>90</td>\n",
              "      <td>Van Cortlandt Park</td>\n",
              "      <td>3</td>\n",
              "      <td>Van</td>\n",
              "      <td>Park</td>\n",
              "      <td>Bronx</td>\n",
              "      <td>NaN</td>\n",
              "      <td>Cortlandt</td>\n",
              "      <td>0</td>\n",
              "      <td>-73.888958</td>\n",
              "      <td>40.896210</td>\n",
              "    </tr>\n",
              "    <tr>\n",
              "      <th>1</th>\n",
              "      <td>POINT (-73.87165102682086 40.88987947152594)</td>\n",
              "      <td>2</td>\n",
              "      <td>95</td>\n",
              "      <td>Woodlawn Cemetery</td>\n",
              "      <td>2</td>\n",
              "      <td>Woodlawn</td>\n",
              "      <td>NaN</td>\n",
              "      <td>Bronx</td>\n",
              "      <td>NaN</td>\n",
              "      <td>Cemetery</td>\n",
              "      <td>0</td>\n",
              "      <td>-73.871651</td>\n",
              "      <td>40.889879</td>\n",
              "    </tr>\n",
              "    <tr>\n",
              "      <th>2</th>\n",
              "      <td>POINT (-73.8386418872537 40.88696522165708)</td>\n",
              "      <td>3</td>\n",
              "      <td>81</td>\n",
              "      <td>Seton Falls Park</td>\n",
              "      <td>3</td>\n",
              "      <td>Seton</td>\n",
              "      <td>Park</td>\n",
              "      <td>Bronx</td>\n",
              "      <td>NaN</td>\n",
              "      <td>Falls</td>\n",
              "      <td>0</td>\n",
              "      <td>-73.838642</td>\n",
              "      <td>40.886965</td>\n",
              "    </tr>\n",
              "    <tr>\n",
              "      <th>3</th>\n",
              "      <td>POINT (-73.80980242290379 40.87798554992497)</td>\n",
              "      <td>4</td>\n",
              "      <td>69</td>\n",
              "      <td>Pelham Bay Park</td>\n",
              "      <td>3</td>\n",
              "      <td>Pelham</td>\n",
              "      <td>Park</td>\n",
              "      <td>Bronx</td>\n",
              "      <td>NaN</td>\n",
              "      <td>Bay</td>\n",
              "      <td>0</td>\n",
              "      <td>-73.809802</td>\n",
              "      <td>40.877986</td>\n",
              "    </tr>\n",
              "    <tr>\n",
              "      <th>4</th>\n",
              "      <td>POINT (-73.87830775950145 40.864423947038276)</td>\n",
              "      <td>5</td>\n",
              "      <td>8</td>\n",
              "      <td>Botanical Garden</td>\n",
              "      <td>2</td>\n",
              "      <td>Botanical</td>\n",
              "      <td>NaN</td>\n",
              "      <td>Bronx</td>\n",
              "      <td>NaN</td>\n",
              "      <td>Garden</td>\n",
              "      <td>0</td>\n",
              "      <td>-73.878308</td>\n",
              "      <td>40.864424</td>\n",
              "    </tr>\n",
              "  </tbody>\n",
              "</table>\n",
              "</div>"
            ],
            "text/plain": [
              "                                        the_geom  ...   latitude\n",
              "0    POINT (-73.88895811640342 40.8962098695574)  ...  40.896210\n",
              "1   POINT (-73.87165102682086 40.88987947152594)  ...  40.889879\n",
              "2    POINT (-73.8386418872537 40.88696522165708)  ...  40.886965\n",
              "3   POINT (-73.80980242290379 40.87798554992497)  ...  40.877986\n",
              "4  POINT (-73.87830775950145 40.864423947038276)  ...  40.864424\n",
              "\n",
              "[5 rows x 13 columns]"
            ]
          },
          "metadata": {
            "tags": []
          },
          "execution_count": 263
        }
      ]
    },
    {
      "cell_type": "code",
      "metadata": {
        "colab": {
          "base_uri": "https://localhost:8080/"
        },
        "id": "Y51Uj_lNNCvw",
        "outputId": "4f60e75b-23f8-41d0-cbd4-a67a3332b8d1"
      },
      "source": [
        "from sklearn.neighbors import BallTree\n",
        "from math import radians\n",
        "\n",
        "listing_locs = df[[\"latitude\", \"longitude\"]].values\n",
        "POI_locs = dataframe2[[\"latitude\", \"longitude\"]].values\n",
        "\n",
        "# radians için bir fonksiyon\n",
        "#r = np.vectorize(lambda x: radians(x))\n",
        "# lat-lng değerlerini radians'a çevir\n",
        "#listing_locs = r(listing_locs)\n",
        "#subway_locs = r(subway_locs)\n",
        "\n",
        "# ballTree'ye subway listesini gir\n",
        "# haversine, yeryüzü üzerindeki noktalar arasındaki mesafeler için\n",
        "treePOI = BallTree(POI_locs, metric=\"haversine\")\n",
        "\n",
        "# oluşan tree'den listing loc'ları için en yakın noktaları çek\n",
        "nearest_distancesPOI, nearest_POI_indices = treePOI.query(listing_locs)\n",
        "\n",
        "#Bunlar distance matrix değil. Her iki variable da (nearest_distances, nearest_subway_indices) listing_locs ile aynı length'e sahip. Aynı index'tekiler de aynı objeler. Örneğin ilk airbnb listing'in nearest distance ve hangi subway durağı olduğunu anlamak için\n",
        "\n",
        "nearest_distancesPOI[0]  # en yakındaki durağın mesafesi\n",
        "#subway_locs[nearest_subway_indices[0]] # durağın lat-lng değerleri\n",
        "\n",
        "#Yani nearest_subway_indices orijinal subway_locs'taki değerlerin index'lerini saklıyor. Bu iki array'i istediğin gibi manipüle edebilirsin."
      ],
      "execution_count": null,
      "outputs": [
        {
          "output_type": "execute_result",
          "data": {
            "text/plain": [
              "array([0.01413401])"
            ]
          },
          "metadata": {
            "tags": []
          },
          "execution_count": 264
        }
      ]
    },
    {
      "cell_type": "code",
      "metadata": {
        "id": "dJY3Uvc7MoVr"
      },
      "source": [
        "nearest_distances_km_POI = []\n",
        "for i in nearest_distancesPOI:\n",
        "  nearest_distances_km_POI.append(i * 6371)\n",
        "#We multiplied i with 6371 because earth's radius is 6371 km. "
      ],
      "execution_count": null,
      "outputs": []
    },
    {
      "cell_type": "code",
      "metadata": {
        "colab": {
          "base_uri": "https://localhost:8080/",
          "height": 278
        },
        "id": "-0EghMBPMpmz",
        "outputId": "7c1de5f9-5a8a-405f-ea4c-749a01dbb404"
      },
      "source": [
        "x = list(df[\"price\"])\n",
        "y = nearest_distances_km_POI\n",
        "plt.scatter(y, x)\n",
        "plt.ylabel(\"Price \")\n",
        "plt.xlabel(\"Distance in km\")\n",
        "plt.show()"
      ],
      "execution_count": null,
      "outputs": [
        {
          "output_type": "display_data",
          "data": {
            "image/png": "[encoded data removed]",
            "text/plain": [
              "<Figure size 432x288 with 1 Axes>"
            ]
          },
          "metadata": {
            "tags": [],
            "needs_background": "light"
          }
        }
      ]
    },
    {
      "cell_type": "code",
      "metadata": {
        "colab": {
          "base_uri": "https://localhost:8080/",
          "height": 431
        },
        "id": "c4ci0Qp8o_CQ",
        "outputId": "a39c1004-608f-4ca0-8e62-591a83e20049"
      },
      "source": [
        "isLessThanPOI = []\n",
        "for i in nearest_distances_km_POI:\n",
        "  if i < 25:\n",
        "    isLessThanPOI.append(1)\n",
        "  else:\n",
        "    isLessThanPOI.append(0)\n",
        "df[\"isLessThan10KmPOI\"] = isLessThanPOI\n",
        "\n",
        "test_type = \"price\"\n",
        "\n",
        "lessThanPOI = df[df[\"isLessThan10KmPOI\"] == 1][test_type]\n",
        "greaterThanPOI = df[df[\"isLessThan10KmPOI\"] == 0][test_type]\n",
        "\n",
        "fig, ax = plt.subplots(1, 3, figsize=(24,6))\n",
        "\n",
        "lessThanPOI.plot(kind=\"hist\", ax=ax[0], bins=1000, label=\"Within 25 km\", color=\"c\", density=True)\n",
        "ax[0].set_title(\"Within 25 km\")\n",
        "ax[0].set_xlim(0,1000)\n",
        "\n",
        "greaterThanPOI.plot(kind=\"hist\", ax=ax[1], bins=1000, label=\"Not within 25 km\", color=\"m\", density=True)\n",
        "ax[1].set_title(\"Not within 25 km\")\n",
        "ax[1].set_xlim(0,1000)\n",
        "\n",
        "sns.kdeplot(lessThanPOI, shade=True, label=\"completed students\", ax=ax[2], color=\"c\")\n",
        "sns.kdeplot(greaterThanPOI, shade=True, label=\"none students\", ax=ax[2], color=\"m\")\n",
        "ax[2].set_title(\"Comparison with KDE\")\n",
        "ax[2].set_xlim(0,1000)\n",
        "\n",
        "plt.suptitle(\"Distance-price Distributions\")\n",
        "plt.show()"
      ],
      "execution_count": null,
      "outputs": [
        {
          "output_type": "display_data",
          "data": {
            "image/png": "[encoded data removed]",
            "text/plain": [
              "<Figure size 1728x432 with 3 Axes>"
            ]
          },
          "metadata": {
            "tags": [],
            "needs_background": "light"
          }
        }
      ]
    },
    {
      "cell_type": "markdown",
      "metadata": {
        "id": "SLWphd0VnCtW"
      },
      "source": [
        "**T-test:**"
      ]
    },
    {
      "cell_type": "code",
      "metadata": {
        "colab": {
          "base_uri": "https://localhost:8080/"
        },
        "id": "qSnqft2ao_Fb",
        "outputId": "ff54ee28-7237-4722-874e-b01cb13a008a"
      },
      "source": [
        "stats.ttest_ind(lessThanPOI, greaterThanPOI, equal_var=False)"
      ],
      "execution_count": null,
      "outputs": [
        {
          "output_type": "execute_result",
          "data": {
            "text/plain": [
              "Ttest_indResult(statistic=7.72556518193718, pvalue=2.2246026354829505e-14)"
            ]
          },
          "metadata": {
            "tags": []
          },
          "execution_count": 268
        }
      ]
    },
    {
      "cell_type": "markdown",
      "metadata": {
        "id": "eNTNU14YrehY"
      },
      "source": [
        "**Interpretation of result:**\n",
        "\n",
        "> As p-value we obtained is smaller than the threshold significance level 0.05, we can conclude proximity of POI's are not directly proportional to the average price of that place. **Here, we reject the null hypothesis.**"
      ]
    },
    {
      "cell_type": "markdown",
      "metadata": {
        "id": "tPIQj2utoBoc"
      },
      "source": [
        "### Sample Hypothesis Test 5\n",
        "\n",
        "**Sample 1:** Houses within 5 km from the subway stations.\n",
        "\n",
        "**Sample 2:** Houses within 5 km from the bus stops.\n",
        "\n",
        "**Hypothesis Test:** We aimed to compare the average prices of houses with a bus stop within 5 km and a metro stop within 5 km.\n",
        "\n",
        "**Null Hypothesis ($H_0$)**: The average price of sample 1 $(\\mu_{1})$ is equal to the average price of sample 2 $(\\mu_{2})$.\n",
        "\n",
        "$ H_0: \\mu_{1} = \\mu_{2}$\n",
        "\n",
        "**Alternative Hypothesis ($H_A$)**: The average price of sample 1 $(\\mu_{1})$ is not equal to the average price of sample 2 $(\\mu_{2})$.\n",
        "\n",
        "$ H_A: \\mu_{1} != \\mu_{2}$\n",
        "\n",
        "**Significance level**: As most of hypothesis tests assume significance level as `0.05`, we are setting it as `0.05` for our test too. "
      ]
    },
    {
      "cell_type": "code",
      "metadata": {
        "colab": {
          "base_uri": "https://localhost:8080/",
          "height": 281
        },
        "id": "kD94ORrYoyMp",
        "outputId": "b4e0b1e6-5203-40b1-cb7c-f0d98bb5cef4"
      },
      "source": [
        "dataframe3.head()"
      ],
      "execution_count": null,
      "outputs": [
        {
          "output_type": "execute_result",
          "data": {
            "text/html": [
              "<div>\n",
              "<style scoped>\n",
              "    .dataframe tbody tr th:only-of-type {\n",
              "        vertical-align: middle;\n",
              "    }\n",
              "\n",
              "    .dataframe tbody tr th {\n",
              "        vertical-align: top;\n",
              "    }\n",
              "\n",
              "    .dataframe thead th {\n",
              "        text-align: right;\n",
              "    }\n",
              "</style>\n",
              "<table border=\"1\" class=\"dataframe\">\n",
              "  <thead>\n",
              "    <tr style=\"text-align: right;\">\n",
              "      <th></th>\n",
              "      <th>CounDist</th>\n",
              "      <th>BoroCD</th>\n",
              "      <th>AssemDist</th>\n",
              "      <th>the_geom</th>\n",
              "      <th>CongDist</th>\n",
              "      <th>StSenDist</th>\n",
              "      <th>SHELTER_ID</th>\n",
              "      <th>LOCATION</th>\n",
              "      <th>AT_BETWEEN</th>\n",
              "      <th>LONGITUDE</th>\n",
              "      <th>LATITUDE</th>\n",
              "      <th>AssetID</th>\n",
              "      <th>BoroCode</th>\n",
              "      <th>BoroName</th>\n",
              "      <th>Street</th>\n",
              "      <th>SegmentID</th>\n",
              "      <th>PhysicalID</th>\n",
              "      <th>NODEID</th>\n",
              "    </tr>\n",
              "  </thead>\n",
              "  <tbody>\n",
              "    <tr>\n",
              "      <th>0</th>\n",
              "      <td>34</td>\n",
              "      <td>301</td>\n",
              "      <td>53</td>\n",
              "      <td>POINT (-73.94783099999995 40.70681200000007)</td>\n",
              "      <td>7</td>\n",
              "      <td>18</td>\n",
              "      <td>BR0003</td>\n",
              "      <td>MONTROSE AV</td>\n",
              "      <td>LORIMER ST</td>\n",
              "      <td>-73.947831</td>\n",
              "      <td>40.706812</td>\n",
              "      <td>1</td>\n",
              "      <td>3</td>\n",
              "      <td>Brooklyn</td>\n",
              "      <td>MONTROSE AVENUE</td>\n",
              "      <td>31244.0</td>\n",
              "      <td>91546</td>\n",
              "      <td>0</td>\n",
              "    </tr>\n",
              "    <tr>\n",
              "      <th>1</th>\n",
              "      <td>34</td>\n",
              "      <td>301</td>\n",
              "      <td>50</td>\n",
              "      <td>POINT (-73.94516199999998 40.71909700000003)</td>\n",
              "      <td>12</td>\n",
              "      <td>18</td>\n",
              "      <td>BR0014</td>\n",
              "      <td>GRAHAM AV</td>\n",
              "      <td>HERBERT ST</td>\n",
              "      <td>-73.945162</td>\n",
              "      <td>40.719097</td>\n",
              "      <td>2</td>\n",
              "      <td>3</td>\n",
              "      <td>Brooklyn</td>\n",
              "      <td>GRAHAM AVENUE</td>\n",
              "      <td>35598.0</td>\n",
              "      <td>45754</td>\n",
              "      <td>0</td>\n",
              "    </tr>\n",
              "    <tr>\n",
              "      <th>2</th>\n",
              "      <td>34</td>\n",
              "      <td>301</td>\n",
              "      <td>53</td>\n",
              "      <td>POINT (-73.94578299999995 40.702976000000035)</td>\n",
              "      <td>7</td>\n",
              "      <td>18</td>\n",
              "      <td>BR0026</td>\n",
              "      <td>BROADWAY</td>\n",
              "      <td>LEONARD ST</td>\n",
              "      <td>-73.945783</td>\n",
              "      <td>40.702976</td>\n",
              "      <td>3</td>\n",
              "      <td>3</td>\n",
              "      <td>Brooklyn</td>\n",
              "      <td>BROADWAY</td>\n",
              "      <td>31350.0</td>\n",
              "      <td>43972</td>\n",
              "      <td>19920</td>\n",
              "    </tr>\n",
              "    <tr>\n",
              "      <th>3</th>\n",
              "      <td>34</td>\n",
              "      <td>301</td>\n",
              "      <td>50</td>\n",
              "      <td>POINT (-73.94083599999993 40.72019500000005)</td>\n",
              "      <td>12</td>\n",
              "      <td>18</td>\n",
              "      <td>BR0028</td>\n",
              "      <td>KINGSLAND AV</td>\n",
              "      <td>HERBERT ST</td>\n",
              "      <td>-73.940836</td>\n",
              "      <td>40.720195</td>\n",
              "      <td>4</td>\n",
              "      <td>3</td>\n",
              "      <td>Brooklyn</td>\n",
              "      <td>KINGSLAND AVENUE</td>\n",
              "      <td>65844.0</td>\n",
              "      <td>48893</td>\n",
              "      <td>40551</td>\n",
              "    </tr>\n",
              "    <tr>\n",
              "      <th>4</th>\n",
              "      <td>35</td>\n",
              "      <td>302</td>\n",
              "      <td>50</td>\n",
              "      <td>POINT (-73.96979499999998 40.69344000000007)</td>\n",
              "      <td>8</td>\n",
              "      <td>25</td>\n",
              "      <td>BR0040</td>\n",
              "      <td>VANDERBILT AV</td>\n",
              "      <td>MYRTLE AV</td>\n",
              "      <td>-73.969795</td>\n",
              "      <td>40.693440</td>\n",
              "      <td>5</td>\n",
              "      <td>3</td>\n",
              "      <td>Brooklyn</td>\n",
              "      <td>VANDERBILT AVENUE</td>\n",
              "      <td>30196.0</td>\n",
              "      <td>60512</td>\n",
              "      <td>0</td>\n",
              "    </tr>\n",
              "  </tbody>\n",
              "</table>\n",
              "</div>"
            ],
            "text/plain": [
              "   CounDist  BoroCD  AssemDist  ... SegmentID  PhysicalID  NODEID\n",
              "0        34     301         53  ...   31244.0       91546       0\n",
              "1        34     301         50  ...   35598.0       45754       0\n",
              "2        34     301         53  ...   31350.0       43972   19920\n",
              "3        34     301         50  ...   65844.0       48893   40551\n",
              "4        35     302         50  ...   30196.0       60512       0\n",
              "\n",
              "[5 rows x 18 columns]"
            ]
          },
          "metadata": {
            "tags": []
          },
          "execution_count": 269
        }
      ]
    },
    {
      "cell_type": "code",
      "metadata": {
        "colab": {
          "base_uri": "https://localhost:8080/"
        },
        "id": "8KTh6uehqLYF",
        "outputId": "fe7e4c7b-d31c-44a2-8897-f97934df7b76"
      },
      "source": [
        "from sklearn.neighbors import BallTree\n",
        "from math import radians\n",
        "\n",
        "listing_locs = df[[\"latitude\", \"longitude\"]].values\n",
        "bus_locs = dataframe3[[\"LATITUDE\", \"LONGITUDE\"]].values\n",
        "\n",
        "# radians için bir fonksiyon\n",
        "#r = np.vectorize(lambda x: radians(x))\n",
        "# lat-lng değerlerini radians'a çevir\n",
        "#listing_locs = r(listing_locs)\n",
        "#subway_locs = r(subway_locs)\n",
        "\n",
        "# ballTree'ye subway listesini gir\n",
        "# haversine, yeryüzü üzerindeki noktalar arasındaki mesafeler için\n",
        "treeBus = BallTree(bus_locs, metric=\"haversine\")\n",
        "\n",
        "# oluşan tree'den listing loc'ları için en yakın noktaları çek\n",
        "nearest_distancesBus, nearest_bus_indices = treeBus.query(listing_locs)\n",
        "\n",
        "#Bunlar distance matrix değil. Her iki variable da (nearest_distances, nearest_subway_indices) listing_locs ile aynı length'e sahip. Aynı index'tekiler de aynı objeler. Örneğin ilk airbnb listing'in nearest distance ve hangi subway durağı olduğunu anlamak için\n",
        "\n",
        "nearest_distancesBus[0]  # en yakındaki durağın mesafesi\n",
        "#subway_locs[nearest_subway_indices[0]] # durağın lat-lng değerleri\n",
        "\n",
        "#Yani nearest_subway_indices orijinal subway_locs'taki değerlerin index'lerini saklıyor. Bu iki array'i istediğin gibi manipüle edebilirsin."
      ],
      "execution_count": null,
      "outputs": [
        {
          "output_type": "execute_result",
          "data": {
            "text/plain": [
              "array([0.00173175])"
            ]
          },
          "metadata": {
            "tags": []
          },
          "execution_count": 270
        }
      ]
    },
    {
      "cell_type": "code",
      "metadata": {
        "id": "Amvn77PNqbi_"
      },
      "source": [
        "nearest_distances_Bus_km = []\n",
        "for i in nearest_distancesBus:\n",
        "  nearest_distances_Bus_km.append(i * 6371)\n",
        "#We multiplied i with 6371 because earth's radius is 6371 km. "
      ],
      "execution_count": null,
      "outputs": []
    },
    {
      "cell_type": "code",
      "metadata": {
        "colab": {
          "base_uri": "https://localhost:8080/",
          "height": 401
        },
        "id": "rKwGesLRsukD",
        "outputId": "a51f44f3-74c0-4609-f912-2b0921c652e1"
      },
      "source": [
        "df.head()"
      ],
      "execution_count": null,
      "outputs": [
        {
          "output_type": "execute_result",
          "data": {
            "text/html": [
              "<div>\n",
              "<style scoped>\n",
              "    .dataframe tbody tr th:only-of-type {\n",
              "        vertical-align: middle;\n",
              "    }\n",
              "\n",
              "    .dataframe tbody tr th {\n",
              "        vertical-align: top;\n",
              "    }\n",
              "\n",
              "    .dataframe thead th {\n",
              "        text-align: right;\n",
              "    }\n",
              "</style>\n",
              "<table border=\"1\" class=\"dataframe\">\n",
              "  <thead>\n",
              "    <tr style=\"text-align: right;\">\n",
              "      <th></th>\n",
              "      <th>id</th>\n",
              "      <th>name</th>\n",
              "      <th>host_id</th>\n",
              "      <th>host_name</th>\n",
              "      <th>neighbourhood_group</th>\n",
              "      <th>neighbourhood</th>\n",
              "      <th>latitude</th>\n",
              "      <th>longitude</th>\n",
              "      <th>room_type</th>\n",
              "      <th>price</th>\n",
              "      <th>minimum_nights</th>\n",
              "      <th>number_of_reviews</th>\n",
              "      <th>last_review</th>\n",
              "      <th>reviews_per_month</th>\n",
              "      <th>calculated_host_listings_count</th>\n",
              "      <th>availability_365</th>\n",
              "      <th>isLessThan5Km</th>\n",
              "      <th>isLessThan10KmPOI</th>\n",
              "    </tr>\n",
              "  </thead>\n",
              "  <tbody>\n",
              "    <tr>\n",
              "      <th>0</th>\n",
              "      <td>2539</td>\n",
              "      <td>Clean &amp; quiet apt home by the park</td>\n",
              "      <td>2787</td>\n",
              "      <td>John</td>\n",
              "      <td>Brooklyn</td>\n",
              "      <td>Kensington</td>\n",
              "      <td>40.64749</td>\n",
              "      <td>-73.97237</td>\n",
              "      <td>Private room</td>\n",
              "      <td>149</td>\n",
              "      <td>1</td>\n",
              "      <td>9</td>\n",
              "      <td>2018-10-19</td>\n",
              "      <td>0.21</td>\n",
              "      <td>6</td>\n",
              "      <td>365</td>\n",
              "      <td>0</td>\n",
              "      <td>0</td>\n",
              "    </tr>\n",
              "    <tr>\n",
              "      <th>1</th>\n",
              "      <td>2595</td>\n",
              "      <td>Skylit Midtown Castle</td>\n",
              "      <td>2845</td>\n",
              "      <td>Jennifer</td>\n",
              "      <td>Manhattan</td>\n",
              "      <td>Midtown</td>\n",
              "      <td>40.75362</td>\n",
              "      <td>-73.98377</td>\n",
              "      <td>Entire home/apt</td>\n",
              "      <td>225</td>\n",
              "      <td>1</td>\n",
              "      <td>45</td>\n",
              "      <td>2019-05-21</td>\n",
              "      <td>0.38</td>\n",
              "      <td>2</td>\n",
              "      <td>355</td>\n",
              "      <td>0</td>\n",
              "      <td>0</td>\n",
              "    </tr>\n",
              "    <tr>\n",
              "      <th>2</th>\n",
              "      <td>3647</td>\n",
              "      <td>THE VILLAGE OF HARLEM....NEW YORK !</td>\n",
              "      <td>4632</td>\n",
              "      <td>Elisabeth</td>\n",
              "      <td>Manhattan</td>\n",
              "      <td>Harlem</td>\n",
              "      <td>40.80902</td>\n",
              "      <td>-73.94190</td>\n",
              "      <td>Private room</td>\n",
              "      <td>150</td>\n",
              "      <td>3</td>\n",
              "      <td>0</td>\n",
              "      <td>NaN</td>\n",
              "      <td>NaN</td>\n",
              "      <td>1</td>\n",
              "      <td>365</td>\n",
              "      <td>0</td>\n",
              "      <td>0</td>\n",
              "    </tr>\n",
              "    <tr>\n",
              "      <th>3</th>\n",
              "      <td>3831</td>\n",
              "      <td>Cozy Entire Floor of Brownstone</td>\n",
              "      <td>4869</td>\n",
              "      <td>LisaRoxanne</td>\n",
              "      <td>Brooklyn</td>\n",
              "      <td>Clinton Hill</td>\n",
              "      <td>40.68514</td>\n",
              "      <td>-73.95976</td>\n",
              "      <td>Entire home/apt</td>\n",
              "      <td>89</td>\n",
              "      <td>1</td>\n",
              "      <td>270</td>\n",
              "      <td>2019-07-05</td>\n",
              "      <td>4.64</td>\n",
              "      <td>1</td>\n",
              "      <td>194</td>\n",
              "      <td>0</td>\n",
              "      <td>0</td>\n",
              "    </tr>\n",
              "    <tr>\n",
              "      <th>4</th>\n",
              "      <td>5022</td>\n",
              "      <td>Entire Apt: Spacious Studio/Loft by central park</td>\n",
              "      <td>7192</td>\n",
              "      <td>Laura</td>\n",
              "      <td>Manhattan</td>\n",
              "      <td>East Harlem</td>\n",
              "      <td>40.79851</td>\n",
              "      <td>-73.94399</td>\n",
              "      <td>Entire home/apt</td>\n",
              "      <td>80</td>\n",
              "      <td>10</td>\n",
              "      <td>9</td>\n",
              "      <td>2018-11-19</td>\n",
              "      <td>0.10</td>\n",
              "      <td>1</td>\n",
              "      <td>0</td>\n",
              "      <td>0</td>\n",
              "      <td>0</td>\n",
              "    </tr>\n",
              "  </tbody>\n",
              "</table>\n",
              "</div>"
            ],
            "text/plain": [
              "     id  ... isLessThan10KmPOI\n",
              "0  2539  ...                 0\n",
              "1  2595  ...                 0\n",
              "2  3647  ...                 0\n",
              "3  3831  ...                 0\n",
              "4  5022  ...                 0\n",
              "\n",
              "[5 rows x 18 columns]"
            ]
          },
          "metadata": {
            "tags": []
          },
          "execution_count": 272
        }
      ]
    },
    {
      "cell_type": "code",
      "metadata": {
        "id": "Gvj6CQdUt2tM"
      },
      "source": [
        ""
      ],
      "execution_count": null,
      "outputs": []
    },
    {
      "cell_type": "code",
      "metadata": {
        "colab": {
          "base_uri": "https://localhost:8080/",
          "height": 431
        },
        "id": "PDlzJ5ZQrbIK",
        "outputId": "00e5eafe-a648-4ef4-fe4e-54134e1d3d1e"
      },
      "source": [
        "isLessThanBus = []\n",
        "for i in nearest_distances_Bus_km:\n",
        "  if i <5:\n",
        "    isLessThanBus.append(1)\n",
        "  else:  \n",
        "    isLessThanBus.append(0)\n",
        "\n",
        "df[\"isLessThan5KmBus\"] = isLessThanBus\n",
        "\n",
        "test_type = \"price\"\n",
        "\n",
        "lessThanBus = df[df[\"isLessThan5KmBus\"] == 1][test_type]\n",
        "lessThan = df[df[\"isLessThan5Km\"] == 1][test_type]\n",
        "\n",
        "fig, ax = plt.subplots(1, 3, figsize=(24,6))\n",
        "\n",
        "lessThanBus.plot(kind=\"hist\", ax=ax[0], bins=1000, label=\"Within 5 km in Bus stops\", color=\"c\", density=True)\n",
        "ax[0].set_title(\"Within 5 km in BUS\")\n",
        "ax[0].set_xlim(0,1000)\n",
        "\n",
        "lessThan.plot(kind=\"hist\", ax=ax[1], bins=1000, label=\"lessThan\", color=\"m\", density=True)\n",
        "ax[1].set_title(\"Within 5 km SUBWAY\")\n",
        "ax[1].set_xlim(0,1000)\n",
        "ax[1].set(xlabel=\"Price\", ylabel=\"Frequency\")\n",
        "\n",
        "sns.kdeplot(lessThanBus, shade=True, label=\"completed students\", ax=ax[2], color=\"c\")\n",
        "sns.kdeplot(lessThan, shade=True, label=\"none students\", ax=ax[2], color=\"m\")\n",
        "ax[2].set_title(\"Comparison with KDE\")\n",
        "ax[2].set_xlim(0,1000)\n",
        "\n",
        "plt.suptitle(\"Distance-price Distributions\")\n",
        "plt.show()"
      ],
      "execution_count": null,
      "outputs": [
        {
          "output_type": "display_data",
          "data": {
            "image/png": "[encoded data removed]",
            "text/plain": [
              "<Figure size 1728x432 with 3 Axes>"
            ]
          },
          "metadata": {
            "tags": [],
            "needs_background": "light"
          }
        }
      ]
    },
    {
      "cell_type": "code",
      "metadata": {
        "colab": {
          "base_uri": "https://localhost:8080/"
        },
        "id": "XCmtCCnJuPub",
        "outputId": "1dda7c1f-e965-414a-face-20ccfa172343"
      },
      "source": [
        "stats.ttest_ind(lessThanBus, lessThan, equal_var=False)"
      ],
      "execution_count": null,
      "outputs": [
        {
          "output_type": "execute_result",
          "data": {
            "text/plain": [
              "Ttest_indResult(statistic=-2.817272524227512, pvalue=0.004880683007069745)"
            ]
          },
          "metadata": {
            "tags": []
          },
          "execution_count": 274
        }
      ]
    },
    {
      "cell_type": "markdown",
      "metadata": {
        "id": "A5T9c2j-ylZS"
      },
      "source": [
        "**Interpretation of result:**\n",
        "\n",
        "> As p-value we obtained is smaller than the threshold significance level 0.05, we can conclude proximity of POI's are not directly proportional to the average price of that place. **Here, we reject the null hypothesis.**\n",
        "\n",
        "**IMPORTANT NOTE:** This must be noted that p-value is extremely close to the significance level 0.05. "
      ]
    },
    {
      "cell_type": "markdown",
      "metadata": {
        "id": "H2SLwcdsXczW"
      },
      "source": [
        "---\n",
        "# Machine Learning\n",
        "---"
      ]
    },
    {
      "cell_type": "code",
      "metadata": {
        "id": "5HiMl4u4vwJy"
      },
      "source": [
        "from sklearn.model_selection import train_test_split \n",
        "from sklearn.linear_model import LinearRegression\n",
        "from sklearn import metrics\n",
        "from os.path import join\n",
        "from sklearn.linear_model import LogisticRegression\n",
        "from sklearn.linear_model import LinearRegression\n",
        "from sklearn.model_selection import train_test_split\n",
        "from sklearn.metrics import classification_report\n",
        "from sklearn.metrics import confusion_matrix\n",
        "from sklearn.metrics import r2_score\n",
        "from sklearn.tree import DecisionTreeRegressor\n"
      ],
      "execution_count": null,
      "outputs": []
    },
    {
      "cell_type": "markdown",
      "metadata": {
        "id": "lSLeZE50Yux9"
      },
      "source": [
        "### Reggression Model -1: Lineer Regression\n"
      ]
    },
    {
      "cell_type": "code",
      "metadata": {
        "colab": {
          "base_uri": "https://localhost:8080/",
          "height": 401
        },
        "id": "jYAM7YF6x34u",
        "outputId": "f2ecabcd-fdc2-4750-adcb-d8bb9c4c8fba"
      },
      "source": [
        "df.head()"
      ],
      "execution_count": null,
      "outputs": [
        {
          "output_type": "execute_result",
          "data": {
            "text/html": [
              "<div>\n",
              "<style scoped>\n",
              "    .dataframe tbody tr th:only-of-type {\n",
              "        vertical-align: middle;\n",
              "    }\n",
              "\n",
              "    .dataframe tbody tr th {\n",
              "        vertical-align: top;\n",
              "    }\n",
              "\n",
              "    .dataframe thead th {\n",
              "        text-align: right;\n",
              "    }\n",
              "</style>\n",
              "<table border=\"1\" class=\"dataframe\">\n",
              "  <thead>\n",
              "    <tr style=\"text-align: right;\">\n",
              "      <th></th>\n",
              "      <th>id</th>\n",
              "      <th>name</th>\n",
              "      <th>host_id</th>\n",
              "      <th>host_name</th>\n",
              "      <th>neighbourhood_group</th>\n",
              "      <th>neighbourhood</th>\n",
              "      <th>latitude</th>\n",
              "      <th>longitude</th>\n",
              "      <th>room_type</th>\n",
              "      <th>price</th>\n",
              "      <th>minimum_nights</th>\n",
              "      <th>number_of_reviews</th>\n",
              "      <th>last_review</th>\n",
              "      <th>reviews_per_month</th>\n",
              "      <th>calculated_host_listings_count</th>\n",
              "      <th>availability_365</th>\n",
              "      <th>isLessThan5Km</th>\n",
              "      <th>isLessThan10KmPOI</th>\n",
              "      <th>isLessThan5KmBus</th>\n",
              "    </tr>\n",
              "  </thead>\n",
              "  <tbody>\n",
              "    <tr>\n",
              "      <th>0</th>\n",
              "      <td>2539</td>\n",
              "      <td>Clean &amp; quiet apt home by the park</td>\n",
              "      <td>2787</td>\n",
              "      <td>John</td>\n",
              "      <td>Brooklyn</td>\n",
              "      <td>Kensington</td>\n",
              "      <td>40.64749</td>\n",
              "      <td>-73.97237</td>\n",
              "      <td>Private room</td>\n",
              "      <td>149</td>\n",
              "      <td>1</td>\n",
              "      <td>9</td>\n",
              "      <td>2018-10-19</td>\n",
              "      <td>0.21</td>\n",
              "      <td>6</td>\n",
              "      <td>365</td>\n",
              "      <td>0</td>\n",
              "      <td>0</td>\n",
              "      <td>0</td>\n",
              "    </tr>\n",
              "    <tr>\n",
              "      <th>1</th>\n",
              "      <td>2595</td>\n",
              "      <td>Skylit Midtown Castle</td>\n",
              "      <td>2845</td>\n",
              "      <td>Jennifer</td>\n",
              "      <td>Manhattan</td>\n",
              "      <td>Midtown</td>\n",
              "      <td>40.75362</td>\n",
              "      <td>-73.98377</td>\n",
              "      <td>Entire home/apt</td>\n",
              "      <td>225</td>\n",
              "      <td>1</td>\n",
              "      <td>45</td>\n",
              "      <td>2019-05-21</td>\n",
              "      <td>0.38</td>\n",
              "      <td>2</td>\n",
              "      <td>355</td>\n",
              "      <td>0</td>\n",
              "      <td>0</td>\n",
              "      <td>0</td>\n",
              "    </tr>\n",
              "    <tr>\n",
              "      <th>2</th>\n",
              "      <td>3647</td>\n",
              "      <td>THE VILLAGE OF HARLEM....NEW YORK !</td>\n",
              "      <td>4632</td>\n",
              "      <td>Elisabeth</td>\n",
              "      <td>Manhattan</td>\n",
              "      <td>Harlem</td>\n",
              "      <td>40.80902</td>\n",
              "      <td>-73.94190</td>\n",
              "      <td>Private room</td>\n",
              "      <td>150</td>\n",
              "      <td>3</td>\n",
              "      <td>0</td>\n",
              "      <td>NaN</td>\n",
              "      <td>NaN</td>\n",
              "      <td>1</td>\n",
              "      <td>365</td>\n",
              "      <td>0</td>\n",
              "      <td>0</td>\n",
              "      <td>0</td>\n",
              "    </tr>\n",
              "    <tr>\n",
              "      <th>3</th>\n",
              "      <td>3831</td>\n",
              "      <td>Cozy Entire Floor of Brownstone</td>\n",
              "      <td>4869</td>\n",
              "      <td>LisaRoxanne</td>\n",
              "      <td>Brooklyn</td>\n",
              "      <td>Clinton Hill</td>\n",
              "      <td>40.68514</td>\n",
              "      <td>-73.95976</td>\n",
              "      <td>Entire home/apt</td>\n",
              "      <td>89</td>\n",
              "      <td>1</td>\n",
              "      <td>270</td>\n",
              "      <td>2019-07-05</td>\n",
              "      <td>4.64</td>\n",
              "      <td>1</td>\n",
              "      <td>194</td>\n",
              "      <td>0</td>\n",
              "      <td>0</td>\n",
              "      <td>1</td>\n",
              "    </tr>\n",
              "    <tr>\n",
              "      <th>4</th>\n",
              "      <td>5022</td>\n",
              "      <td>Entire Apt: Spacious Studio/Loft by central park</td>\n",
              "      <td>7192</td>\n",
              "      <td>Laura</td>\n",
              "      <td>Manhattan</td>\n",
              "      <td>East Harlem</td>\n",
              "      <td>40.79851</td>\n",
              "      <td>-73.94399</td>\n",
              "      <td>Entire home/apt</td>\n",
              "      <td>80</td>\n",
              "      <td>10</td>\n",
              "      <td>9</td>\n",
              "      <td>2018-11-19</td>\n",
              "      <td>0.10</td>\n",
              "      <td>1</td>\n",
              "      <td>0</td>\n",
              "      <td>0</td>\n",
              "      <td>0</td>\n",
              "      <td>0</td>\n",
              "    </tr>\n",
              "  </tbody>\n",
              "</table>\n",
              "</div>"
            ],
            "text/plain": [
              "     id  ... isLessThan5KmBus\n",
              "0  2539  ...                0\n",
              "1  2595  ...                0\n",
              "2  3647  ...                0\n",
              "3  3831  ...                1\n",
              "4  5022  ...                0\n",
              "\n",
              "[5 rows x 19 columns]"
            ]
          },
          "metadata": {
            "tags": []
          },
          "execution_count": 276
        }
      ]
    },
    {
      "cell_type": "code",
      "metadata": {
        "id": "FlNQiZssQYfc"
      },
      "source": [
        "df.dropna(subset = [\"reviews_per_month\"], inplace=True)\n",
        "df.head()"
      ],
      "execution_count": null,
      "outputs": []
    },
    {
      "cell_type": "markdown",
      "metadata": {
        "id": "eI45cSHbYCLP"
      },
      "source": [
        "\n",
        "\n",
        ">By doing so, we excluded the NaN values in the reviews per month column."
      ]
    },
    {
      "cell_type": "code",
      "metadata": {
        "colab": {
          "base_uri": "https://localhost:8080/"
        },
        "id": "LawIhP6QeE62",
        "outputId": "a730201e-4c58-408e-d84a-bc84cf81b949"
      },
      "source": [
        "dfcopy = df\n",
        "from sklearn.preprocessing import OrdinalEncoder\n",
        "encoder = OrdinalEncoder()\n",
        "encoded_input = encoder.fit_transform(np.array(list(dfcopy[\"room_type\"])).reshape(-1,1))\n",
        "dfcopy[\"room_type\"] = encoded_input\n",
        "encoded_input\n",
        "\n",
        "encoded_input_2 = encoder.fit_transform(np.array(list(dfcopy[\"neighbourhood_group\"])).reshape(-1,1))\n",
        "dfcopy[\"neighbourhood_group\"] = encoded_input_2\n",
        "encoded_input_2"
      ],
      "execution_count": null,
      "outputs": [
        {
          "output_type": "execute_result",
          "data": {
            "text/plain": [
              "array([[1.],\n",
              "       [2.],\n",
              "       [1.],\n",
              "       ...,\n",
              "       [4.],\n",
              "       [0.],\n",
              "       [1.]])"
            ]
          },
          "metadata": {
            "tags": []
          },
          "execution_count": 303
        }
      ]
    },
    {
      "cell_type": "markdown",
      "metadata": {
        "id": "T3GAVqFRYoNf"
      },
      "source": [
        "\n",
        "\n",
        ">In our main data, room type and neighbourhood group columns do not fit into the machine learning crtierias due to its non-numerical nature. So, we encoded to put these non-numerical values into numbers such as 1,2,3 etc.\n",
        "\n",
        "Additionaly, we included room type and neighbourhood group in order to decrease the mean absolute error. Before we include these features mean absolute error was 85. After inclusion, it becomes nearly 65. "
      ]
    },
    {
      "cell_type": "code",
      "metadata": {
        "id": "V1tuHe88xYgW"
      },
      "source": [
        "features = [\"neighbourhood_group\",\"room_type\",\"number_of_reviews\",\"minimum_nights\",\"availability_365\",\"reviews_per_month\",\"calculated_host_listings_count\",\"isLessThan5Km\", \"isLessThan10KmPOI\", \"isLessThan5KmBus\"]\n",
        "X = dfcopy[features].values  # converting to column vector\n",
        "target = dfcopy['price'].values\n",
        "\n",
        "# train-test split\n",
        "X_train, X_test, y_train, y_test = train_test_split(X, target, test_size=0.1, random_state=0)"
      ],
      "execution_count": null,
      "outputs": []
    },
    {
      "cell_type": "markdown",
      "metadata": {
        "id": "XD-Ozm_FtZLf"
      },
      "source": [
        "Here important note: We have add 3 features from different data sets namely isLessThan5Km, isLessThan10KmPOI, isLessThan5KmBus"
      ]
    },
    {
      "cell_type": "code",
      "metadata": {
        "colab": {
          "base_uri": "https://localhost:8080/"
        },
        "id": "YP3zpt_xyJhd",
        "outputId": "537b91c1-65f5-49a4-e171-4e633c2c2e7d"
      },
      "source": [
        "# creating the model\n",
        "model = LinearRegression()  \n",
        "model.fit(X_train, y_train)"
      ],
      "execution_count": null,
      "outputs": [
        {
          "output_type": "execute_result",
          "data": {
            "text/plain": [
              "LinearRegression(copy_X=True, fit_intercept=True, n_jobs=None, normalize=False)"
            ]
          },
          "metadata": {
            "tags": []
          },
          "execution_count": 309
        }
      ]
    },
    {
      "cell_type": "code",
      "metadata": {
        "id": "n5RGo5RhyL3d",
        "colab": {
          "base_uri": "https://localhost:8080/",
          "height": 347
        },
        "outputId": "60bd0eee-df36-43de-bdd6-cd5a3fe7ad26"
      },
      "source": [
        "# let's have a look at the coefficients, \n",
        "coeff_df = pd.DataFrame(model.coef_, features, columns=['Coefficient'])  \n",
        "coeff_df"
      ],
      "execution_count": null,
      "outputs": [
        {
          "output_type": "execute_result",
          "data": {
            "text/html": [
              "<div>\n",
              "<style scoped>\n",
              "    .dataframe tbody tr th:only-of-type {\n",
              "        vertical-align: middle;\n",
              "    }\n",
              "\n",
              "    .dataframe tbody tr th {\n",
              "        vertical-align: top;\n",
              "    }\n",
              "\n",
              "    .dataframe thead th {\n",
              "        text-align: right;\n",
              "    }\n",
              "</style>\n",
              "<table border=\"1\" class=\"dataframe\">\n",
              "  <thead>\n",
              "    <tr style=\"text-align: right;\">\n",
              "      <th></th>\n",
              "      <th>Coefficient</th>\n",
              "    </tr>\n",
              "  </thead>\n",
              "  <tbody>\n",
              "    <tr>\n",
              "      <th>neighbourhood_group</th>\n",
              "      <td>8.051466</td>\n",
              "    </tr>\n",
              "    <tr>\n",
              "      <th>room_type</th>\n",
              "      <td>-102.035149</td>\n",
              "    </tr>\n",
              "    <tr>\n",
              "      <th>number_of_reviews</th>\n",
              "      <td>-0.176200</td>\n",
              "    </tr>\n",
              "    <tr>\n",
              "      <th>minimum_nights</th>\n",
              "      <td>-0.127722</td>\n",
              "    </tr>\n",
              "    <tr>\n",
              "      <th>availability_365</th>\n",
              "      <td>0.148321</td>\n",
              "    </tr>\n",
              "    <tr>\n",
              "      <th>reviews_per_month</th>\n",
              "      <td>-1.899133</td>\n",
              "    </tr>\n",
              "    <tr>\n",
              "      <th>calculated_host_listings_count</th>\n",
              "      <td>0.076218</td>\n",
              "    </tr>\n",
              "    <tr>\n",
              "      <th>isLessThan5Km</th>\n",
              "      <td>13.242390</td>\n",
              "    </tr>\n",
              "    <tr>\n",
              "      <th>isLessThan10KmPOI</th>\n",
              "      <td>38.278052</td>\n",
              "    </tr>\n",
              "    <tr>\n",
              "      <th>isLessThan5KmBus</th>\n",
              "      <td>4.721017</td>\n",
              "    </tr>\n",
              "  </tbody>\n",
              "</table>\n",
              "</div>"
            ],
            "text/plain": [
              "                                Coefficient\n",
              "neighbourhood_group                8.051466\n",
              "room_type                       -102.035149\n",
              "number_of_reviews                 -0.176200\n",
              "minimum_nights                    -0.127722\n",
              "availability_365                   0.148321\n",
              "reviews_per_month                 -1.899133\n",
              "calculated_host_listings_count     0.076218\n",
              "isLessThan5Km                     13.242390\n",
              "isLessThan10KmPOI                 38.278052\n",
              "isLessThan5KmBus                   4.721017"
            ]
          },
          "metadata": {
            "tags": []
          },
          "execution_count": 310
        }
      ]
    },
    {
      "cell_type": "markdown",
      "metadata": {
        "id": "Q1wbxEa9Zkjn"
      },
      "source": [
        "\n",
        "\n",
        ">We found coefficients individually."
      ]
    },
    {
      "cell_type": "code",
      "metadata": {
        "id": "gjPOb2wjzZSq",
        "colab": {
          "base_uri": "https://localhost:8080/"
        },
        "outputId": "288e38d5-dab8-416f-a1a4-e389be37d0f4"
      },
      "source": [
        "from sklearn.metrics import mean_squared_error, mean_absolute_error\n",
        "\n",
        "y_pred = model.predict(X_test)\n",
        "\n",
        "mse = mean_squared_error(y_test, y_pred)\n",
        "mae = mean_absolute_error(y_test, y_pred)\n",
        "rmse = np.sqrt(mse)\n",
        "\n",
        "print(\"mse: {}\".format(mse))\n",
        "print(\"mae: {}\".format(mae))\n",
        "print(\"rmse: {}\".format(rmse))\n",
        "print(r2_score(y_test, y_pred))"
      ],
      "execution_count": null,
      "outputs": [
        {
          "output_type": "stream",
          "text": [
            "mse: 31599.449133010436\n",
            "mae: 65.74335374195446\n",
            "rmse: 177.76233890509664\n",
            "0.11581944339529404\n"
          ],
          "name": "stdout"
        }
      ]
    },
    {
      "cell_type": "markdown",
      "metadata": {
        "id": "_xjKITHfZGSL"
      },
      "source": [
        "**Interpretation of result:**\n",
        "\n",
        ">We conclude that the analyized features do not correlate strongly with the price. Therefore, the high mean absolute error can be explanid with this argument. \n",
        "\n",
        ">The r^2 value is close to 0.11 which demonstrates that they are weakly correlated in positive direction.\n",
        "\n"
      ]
    },
    {
      "cell_type": "markdown",
      "metadata": {
        "id": "oRQYj74AY8XS"
      },
      "source": [
        "### Reggression Model - 2: Decision Tree\n"
      ]
    },
    {
      "cell_type": "code",
      "metadata": {
        "id": "5WyerZHxM9-b"
      },
      "source": [
        "\n",
        "from sklearn.tree import DecisionTreeRegressor"
      ],
      "execution_count": null,
      "outputs": []
    },
    {
      "cell_type": "code",
      "metadata": {
        "id": "c-pAr5IuV_HL"
      },
      "source": [
        "x_ml = dfcopy[[\"neighbourhood_group\",\"room_type\",\"minimum_nights\",\"number_of_reviews\",\"reviews_per_month\",\"calculated_host_listings_count\",\"availability_365\",\"isLessThan5Km\", \"isLessThan10KmPOI\", \"isLessThan5KmBus\"]]\n",
        "y_ml = dfcopy[[\"price\"]]\n",
        "x_train_ml, x_test_ml, y_train_ml, y_test_ml = train_test_split(x_ml, y_ml, test_size = 0.1, random_state = 42)"
      ],
      "execution_count": null,
      "outputs": []
    },
    {
      "cell_type": "code",
      "metadata": {
        "id": "fl6J7f8PV_xE",
        "colab": {
          "base_uri": "https://localhost:8080/"
        },
        "outputId": "1b45e0be-86d2-4a43-ce96-8ca4b72fdfb8"
      },
      "source": [
        "tree_model = DecisionTreeRegressor()\n",
        "tree_model.fit(x_train_ml, y_train_ml)\n",
        "y_predict_tree_model = tree_model.predict(x_test_ml)\n",
        "r2_score(y_test_ml[\"price\"], y_predict_tree_model)"
      ],
      "execution_count": null,
      "outputs": [
        {
          "output_type": "execute_result",
          "data": {
            "text/plain": [
              "-0.7137200717374137"
            ]
          },
          "metadata": {
            "tags": []
          },
          "execution_count": 318
        }
      ]
    },
    {
      "cell_type": "code",
      "metadata": {
        "id": "WZYMJErge6ds",
        "colab": {
          "base_uri": "https://localhost:8080/"
        },
        "outputId": "f996d16c-9be0-4186-8e2e-e9308178672f"
      },
      "source": [
        "mean_absolute_error(y_test_ml[\"price\"], y_predict_tree_model)"
      ],
      "execution_count": null,
      "outputs": [
        {
          "output_type": "execute_result",
          "data": {
            "text/plain": [
              "81.63912896108262"
            ]
          },
          "metadata": {
            "tags": []
          },
          "execution_count": 319
        }
      ]
    },
    {
      "cell_type": "markdown",
      "metadata": {
        "id": "MMm9cXOpby-H"
      },
      "source": [
        "**Interpretation of result:**\n",
        "\n",
        ">In contrast to lineer regression above, we found that the analyzed features  correlates strongly with the price in negative direciton. However, the mean absolute error is higher than the lineer regression model's. \n",
        "\n",
        "\n"
      ]
    },
    {
      "cell_type": "markdown",
      "metadata": {
        "id": "4uSfrgwGZWSj"
      },
      "source": [
        "### Regularization Methods for Regression Models - 1: RIDGE\n"
      ]
    },
    {
      "cell_type": "code",
      "metadata": {
        "id": "dHnofmU7WWBD"
      },
      "source": [
        "from sklearn.linear_model import Ridge"
      ],
      "execution_count": null,
      "outputs": []
    },
    {
      "cell_type": "code",
      "metadata": {
        "colab": {
          "base_uri": "https://localhost:8080/"
        },
        "id": "OgC05S1AWWFL",
        "outputId": "d923840b-041f-49ea-cf38-46e1f93549d3"
      },
      "source": [
        "ridgeRegression = Ridge(alpha = 0.001)\n",
        "ridgeRegression.fit(x_train_ml, y_train_ml)\n",
        "y_predict_ridge_model = ridgeRegression.predict(x_test_ml)\n",
        "r2_score(y_test_ml[\"price\"], y_predict_ridge_model)\n",
        "#mean_absolute_error(y_test_ml[\"price\"], y_predict_ridge_model)"
      ],
      "execution_count": null,
      "outputs": [
        {
          "output_type": "execute_result",
          "data": {
            "text/plain": [
              "0.1211071822140044"
            ]
          },
          "metadata": {
            "tags": []
          },
          "execution_count": 363
        }
      ]
    },
    {
      "cell_type": "code",
      "metadata": {
        "colab": {
          "base_uri": "https://localhost:8080/"
        },
        "id": "xXR9rA-RWaR-",
        "outputId": "33865b01-2c85-4742-854b-7e59e6750863"
      },
      "source": [
        "ridgeRegression = Ridge(alpha = 10000)\n",
        "ridgeRegression.fit(x_train_ml, y_train_ml)\n",
        "y_predict_ridge_model = ridgeRegression.predict(x_test_ml)\n",
        "r2_score(y_test_ml[\"price\"], y_predict_ridge_model)\n",
        "#mean_absolute_error(y_test_ml[\"price\"], y_predict_ridge_model)"
      ],
      "execution_count": null,
      "outputs": [
        {
          "output_type": "execute_result",
          "data": {
            "text/plain": [
              "0.08716261179148943"
            ]
          },
          "metadata": {
            "tags": []
          },
          "execution_count": 365
        }
      ]
    },
    {
      "cell_type": "markdown",
      "metadata": {
        "id": "IUaRuLC6gBYv"
      },
      "source": [
        "**Interpretation of result:**\n",
        "\n",
        ">Ridge and Lasso regression are some of the simple techniques to reduce model complexity and prevent over-fitting which may result from simple linear regression. \n",
        "\n",
        "The regularization model Ridge suggest that higher the alpha value, more restriction on the coefficients; low alpha means more generalization. \n",
        "\n",
        "When the coefficients are less restricted, the magnitudes of the coefficients are almost same as of linear regression. For higher value of α (10000), the magnitudes are considerably less compared to linear regression case. This is an example of shrinking coefficient magnitude using Ridge regression.\n",
        "\n",
        "\n"
      ]
    },
    {
      "cell_type": "markdown",
      "metadata": {
        "id": "n3nODmmzZ6YV"
      },
      "source": [
        "### Regularization Methods for Regression Models - 2: LASSO\n"
      ]
    },
    {
      "cell_type": "code",
      "metadata": {
        "id": "PfOePeWlaFUc"
      },
      "source": [
        "from sklearn.linear_model import Lasso"
      ],
      "execution_count": null,
      "outputs": []
    },
    {
      "cell_type": "code",
      "metadata": {
        "id": "6x1ubXv4WI-q",
        "colab": {
          "base_uri": "https://localhost:8080/"
        },
        "outputId": "2cc79abd-1af2-4104-a8a8-7a0802e8f837"
      },
      "source": [
        "lassoRegression = Lasso(alpha = 100)\n",
        "lassoRegression.fit(x_train_ml, y_train_ml)\n",
        "y_predict_lasso_model = lassoRegression.predict(x_test_ml)\n",
        "r2_score(y_test_ml[\"price\"], y_predict_lasso_model)\n",
        "#print(mean_absolute_error(y_test_ml[\"price\"], y_predict_lasso_model))"
      ],
      "execution_count": null,
      "outputs": [
        {
          "output_type": "execute_result",
          "data": {
            "text/plain": [
              "0.004940554553287013"
            ]
          },
          "metadata": {
            "tags": []
          },
          "execution_count": 385
        }
      ]
    },
    {
      "cell_type": "code",
      "metadata": {
        "id": "6FbxeqL2WTHv",
        "colab": {
          "base_uri": "https://localhost:8080/"
        },
        "outputId": "e52b5d5e-6bb8-44db-f0b3-c4e980eba0b7"
      },
      "source": [
        "lassoRegression = Lasso(alpha = 0.001)\n",
        "lassoRegression.fit(x_train_ml, y_train_ml)\n",
        "y_predict_lasso_model = lassoRegression.predict(x_test_ml)\n",
        "r2_score(y_test_ml[\"price\"], y_predict_lasso_model)\n",
        "#print(mean_absolute_error(y_test_ml[\"price\"], y_predict_lasso_model))"
      ],
      "execution_count": null,
      "outputs": [
        {
          "output_type": "execute_result",
          "data": {
            "text/plain": [
              "0.12110546311393766"
            ]
          },
          "metadata": {
            "tags": []
          },
          "execution_count": 383
        }
      ]
    },
    {
      "cell_type": "markdown",
      "metadata": {
        "id": "Kh325ySfiTCv"
      },
      "source": [
        "**Interpretation of result:**\n",
        "\n",
        ">Lasso regression not only helps in reducing over-fitting but it can help us in feature selection.\n",
        "\n",
        "When we increase alpha value, r2 scores approximates to the negative value.\n",
        "\n",
        "\n"
      ]
    },
    {
      "cell_type": "markdown",
      "metadata": {
        "id": "qa129_qaVGi3"
      },
      "source": [
        "### Random Forest Model -  Scaling/Normalization and Hyper-parameter Tuning\n"
      ]
    },
    {
      "cell_type": "code",
      "metadata": {
        "id": "PyKdBF1xWVoT"
      },
      "source": [
        "from sklearn.ensemble import RandomForestRegressor"
      ],
      "execution_count": null,
      "outputs": []
    },
    {
      "cell_type": "code",
      "metadata": {
        "id": "LYY06xP5WXDO",
        "colab": {
          "base_uri": "https://localhost:8080/"
        },
        "outputId": "67daac53-b3d8-4643-f5a2-0d1aa09032c5"
      },
      "source": [
        "rf_regressor = RandomForestRegressor()\n",
        "rf_regressor.fit(x_train_ml, y_train_ml[\"price\"])\n",
        "y_predict_rf_regressor = rf_regressor.predict(x_test_ml)\n",
        "r2_score(y_test_ml[\"price\"], y_predict_rf_regressor)\n",
        "\n",
        "mean_absolute_error(y_test_ml[\"price\"], y_predict_rf_regressor)"
      ],
      "execution_count": null,
      "outputs": [
        {
          "output_type": "execute_result",
          "data": {
            "text/plain": [
              "63.74279851550768"
            ]
          },
          "metadata": {
            "tags": []
          },
          "execution_count": 386
        }
      ]
    },
    {
      "cell_type": "code",
      "metadata": {
        "id": "8YBzBljVmVDM"
      },
      "source": [
        "train_set_accuracies = []\n",
        "val_set_accuracies = []\n",
        "errors = []\n",
        "\n",
        "for depth in range(50):\n",
        "  model = DecisionTreeRegressor(max_depth = depth + 1)\n",
        "  model.fit(x_train_ml, y_train_ml)\n",
        "  train_preds = model.predict(x_train_ml)\n",
        "  val_preds = model.predict(x_test_ml)\n",
        "  train_set_accuracies.append(r2_score(y_train_ml, train_preds))\n",
        "  val_set_accuracies.append(r2_score(y_test_ml, val_preds))\n",
        "  errors.append(mean_absolute_error(y_test_ml, val_preds))"
      ],
      "execution_count": null,
      "outputs": []
    },
    {
      "cell_type": "code",
      "metadata": {
        "id": "k5oO7YTbmYm8"
      },
      "source": [
        "errors"
      ],
      "execution_count": null,
      "outputs": []
    },
    {
      "cell_type": "markdown",
      "metadata": {
        "id": "YFBQROFvtqt6"
      },
      "source": [
        "We built Random Forest model with varying values for the max_depth hyper-parameter. As the name of it also suggests, this parameter controls the maximum depth that the Random Forest can grow."
      ]
    },
    {
      "cell_type": "markdown",
      "metadata": {
        "id": "PbXNoYram_PX"
      },
      "source": [
        "# Conclusion"
      ]
    },
    {
      "cell_type": "markdown",
      "metadata": {
        "id": "T3Y554IonDoZ"
      },
      "source": [
        "To sum up everything that has been stated so far, We started to analyze our main data by comparing different neighbourhood groups in terms of lot prices. After that we investigate whether any features from our datasets would have an effect on the price. After that we stated 5 hypothesis regarding the features such as number of reviews, lot types, transportation availabilities, POI and etc. Finally, we put those different features into the various machine learning techniques. As it is seen above, we can only predict price with the +-65$ price change. These mean absolute errors show that our predictions are not as good as we expected. This might be caused by the weak correlation between our features and price."
      ]
    }
  ]
}